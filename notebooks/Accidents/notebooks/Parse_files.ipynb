{
 "cells": [
  {
   "cell_type": "markdown",
   "id": "be4af97e-ef45-4e18-a1e6-348ec448c2c9",
   "metadata": {
    "tags": []
   },
   "source": [
    "Data about accidents were download from [https://drive.google.com/drive/folders/1u5tJ1tODK27jBrsEiZRWl_p6fssPf-li].\n",
    "\n",
    "We will ingest them one by one because they are messy :_("
   ]
  },
  {
   "cell_type": "code",
   "execution_count": 115,
   "id": "84cedfd9-67e5-41ba-82ed-a088ee95b89b",
   "metadata": {
    "tags": []
   },
   "outputs": [],
   "source": [
    "#! pip3 install pyarrow\n",
    "#! pip3 install fuzzywuzzy\n",
    "#! pip3 install pandas\n",
    "#! pip3 install numpy\n",
    "#! pip3 install levenshtein\n",
    "#! pip3 install seaborn\n",
    "#! pip3 install openpyxl"
   ]
  },
  {
   "cell_type": "code",
   "execution_count": 6,
   "id": "4a0f4223-577c-4854-adfd-081b1f9621f5",
   "metadata": {
    "tags": []
   },
   "outputs": [],
   "source": [
    "import pandas as pd\n",
    "import os\n",
    "import numpy as np"
   ]
  },
  {
   "cell_type": "markdown",
   "id": "d09172a1-e864-4702-a940-cc2b2216a2f5",
   "metadata": {},
   "source": [
    "## 2018"
   ]
  },
  {
   "cell_type": "code",
   "execution_count": 7,
   "id": "d0bfda26-bf5d-4fb6-8f1b-65400bf0edb0",
   "metadata": {
    "tags": []
   },
   "outputs": [],
   "source": [
    "file_name = '../data/raw/Accidents-2018_GD.csv'"
   ]
  },
  {
   "cell_type": "code",
   "execution_count": 8,
   "id": "b4db122b-2a8d-42f0-ade3-0d72de8725e5",
   "metadata": {
    "tags": []
   },
   "outputs": [],
   "source": [
    "df = pd.read_csv(file_name,  encoding='latin1',delimiter=';',)"
   ]
  },
  {
   "cell_type": "code",
   "execution_count": 9,
   "id": "45373d65-7a53-4a1c-bca9-6f85113a51cc",
   "metadata": {
    "tags": []
   },
   "outputs": [],
   "source": [
    "df = df[df.columns[0:6]].copy()"
   ]
  },
  {
   "cell_type": "code",
   "execution_count": 10,
   "id": "6543460e-8e4f-4755-abdb-3000140b8880",
   "metadata": {
    "tags": []
   },
   "outputs": [
    {
     "name": "stdout",
     "output_type": "stream",
     "text": [
      "Número d'expedient\n",
      "_____\n",
      "2018S002285        16\n",
      "2018S005514        15\n",
      "2018S001875        12\n",
      "2018S004241        12\n",
      "2018S000317        12\n",
      "                   ..\n",
      "2018S000666         1\n",
      "2018S008895         1\n",
      "2018S006507         1\n",
      "2018S005000         1\n",
      "2018S001720         1\n",
      "Name: Número d'expedient, Length: 9919, dtype: int64\n",
      "_____\n",
      "Descripció causa conductor\n",
      "_____\n",
      "Manca d'atenció a la conducció             3976\n",
      "Altres                                     3275\n",
      "No respectar distàncies                    2866\n",
      "Gir indegut o sense precaució              2529\n",
      "Canvi de carril sense precaució            2091\n",
      "Desobeir semàfor                           2008\n",
      "No determinada                             1509\n",
      "Desobeir altres senyals                    1392\n",
      "Avançament defectuós/improcedent            753\n",
      "Desconegut                                  744\n",
      "Manca precaució incorporació circulació     720\n",
      "No respectat pas de vianants                658\n",
      "Manca precaució efectuar marxa enrera       458\n",
      "No cedir la dreta                           273\n",
      "Envair calçada contrària                     94\n",
      "Fallada mecànica o avaria                    12\n",
      "Name: Descripció causa conductor, dtype: int64\n",
      "_____\n",
      "Descripció causa vianant\n",
      "_____\n",
      "Desconegut                         21937\n",
      "Desobeir el senyal del semàfor       492\n",
      "Creuar per fora pas de vianants      470\n",
      "Altres                               332\n",
      "Transitar a peu per la calçada       112\n",
      "Desobeir altres senyals               15\n",
      "Name: Descripció causa vianant, dtype: int64\n",
      "_____\n",
      "FLAG - Probable responsable\n",
      "_____\n",
      " 0    11762\n",
      " 1    11593\n",
      "-1        3\n",
      "Name: FLAG - Probable responsable, dtype: int64\n",
      "_____\n",
      "Desc. Tipus vehicle implicat\n",
      "_____\n",
      "Turisme                                8933\n",
      "Motocicleta                            7416\n",
      "Furgoneta                              1552\n",
      "Taxi                                   1282\n",
      "Ciclomotor                             1105\n",
      "Bicicleta                              1004\n",
      "Autobús                                 924\n",
      "Camió rígid <= 3,5 tones                330\n",
      "Camió rígid > 3,5 tones                 206\n",
      "Veh. mobilitat personal amb motor       174\n",
      "Autobús articulat                       111\n",
      "Tractor camió                            62\n",
      "Autocar                                  54\n",
      "Tot terreny                              44\n",
      "Altres vehicles amb motor                37\n",
      "Tren o tramvia                           35\n",
      "Desconegut                               28\n",
      "Maquinària d'obres i serveis             18\n",
      "Veh. mobilitat personal sense motor      16\n",
      "Altres vehicles sense motor              15\n",
      "Microbús <= 17                            8\n",
      "Autocaravana                              2\n",
      "Quadricicle > 75 cc                       1\n",
      "Quadricicle < 75 cc                       1\n",
      "Name: Desc. Tipus vehicle implicat, dtype: int64\n",
      "_____\n",
      "Descripció tipus persona\n",
      "_____\n",
      "Conductor     19938\n",
      "Passatger      2087\n",
      "Vianant        1332\n",
      "Desconegut        1\n",
      "Name: Descripció tipus persona, dtype: int64\n",
      "_____\n"
     ]
    }
   ],
   "source": [
    "for col in df.columns:\n",
    "    print(col)\n",
    "    print('_____')\n",
    "    print(df[col].value_counts())\n",
    "    print('_____')"
   ]
  },
  {
   "cell_type": "code",
   "execution_count": 14,
   "id": "ef59e6ba-aabd-4c68-92ba-19249714e566",
   "metadata": {
    "tags": []
   },
   "outputs": [
    {
     "name": "stderr",
     "output_type": "stream",
     "text": [
      "A subdirectory or file ..\\data\\parsed already exists.\n"
     ]
    }
   ],
   "source": [
    "! mkdir ..\\data\\parsed"
   ]
  },
  {
   "cell_type": "code",
   "execution_count": 15,
   "id": "905bf8d9-25e0-4f8d-b49c-ca06464063c5",
   "metadata": {
    "tags": []
   },
   "outputs": [],
   "source": [
    "df.to_parquet('../data/parsed/2018.parquet')"
   ]
  },
  {
   "cell_type": "markdown",
   "id": "d7f67fae-edbc-4da8-95bf-97a4613fb957",
   "metadata": {
    "tags": []
   },
   "source": [
    "## 2019"
   ]
  },
  {
   "cell_type": "code",
   "execution_count": 16,
   "id": "c3fca225-b77f-4d9b-84ca-28443fcf92b1",
   "metadata": {
    "tags": []
   },
   "outputs": [],
   "source": [
    "file_name = '../data/raw/Accidents-2019_GD.csv'"
   ]
  },
  {
   "cell_type": "code",
   "execution_count": 17,
   "id": "6a08b94d-930d-46a9-a12d-831d0652c5b4",
   "metadata": {
    "tags": []
   },
   "outputs": [],
   "source": [
    "df = pd.read_csv(file_name,  encoding='latin1',delimiter=';',)"
   ]
  },
  {
   "cell_type": "code",
   "execution_count": 18,
   "id": "2867f6b7-11a3-4288-8724-72f07fc917ef",
   "metadata": {
    "tags": []
   },
   "outputs": [
    {
     "data": {
      "text/html": [
       "<div>\n",
       "<style scoped>\n",
       "    .dataframe tbody tr th:only-of-type {\n",
       "        vertical-align: middle;\n",
       "    }\n",
       "\n",
       "    .dataframe tbody tr th {\n",
       "        vertical-align: top;\n",
       "    }\n",
       "\n",
       "    .dataframe thead th {\n",
       "        text-align: right;\n",
       "    }\n",
       "</style>\n",
       "<table border=\"1\" class=\"dataframe\">\n",
       "  <thead>\n",
       "    <tr style=\"text-align: right;\">\n",
       "      <th></th>\n",
       "      <th>Número d'expedient</th>\n",
       "      <th>Descripció causa conductor</th>\n",
       "      <th>Descripció causa vianant</th>\n",
       "      <th>FLAG - Probable responsable</th>\n",
       "      <th>Desc. Tipus vehicle implicat</th>\n",
       "      <th>Descripció tipus persona</th>\n",
       "      <th>Unnamed: 6</th>\n",
       "      <th>Unnamed: 7</th>\n",
       "      <th>Unnamed: 8</th>\n",
       "      <th>Unnamed: 9</th>\n",
       "      <th>...</th>\n",
       "      <th>Unnamed: 12</th>\n",
       "      <th>Unnamed: 13</th>\n",
       "      <th>Unnamed: 14</th>\n",
       "      <th>Unnamed: 15</th>\n",
       "      <th>Unnamed: 16</th>\n",
       "      <th>Unnamed: 17</th>\n",
       "      <th>Unnamed: 18</th>\n",
       "      <th>Unnamed: 19</th>\n",
       "      <th>Unnamed: 20</th>\n",
       "      <th>Unnamed: 21</th>\n",
       "    </tr>\n",
       "  </thead>\n",
       "  <tbody>\n",
       "    <tr>\n",
       "      <th>0</th>\n",
       "      <td>2019S000001</td>\n",
       "      <td>Desobeir semàfor</td>\n",
       "      <td>Desconegut</td>\n",
       "      <td>0</td>\n",
       "      <td>Turisme</td>\n",
       "      <td>Vianant</td>\n",
       "      <td>NaN</td>\n",
       "      <td>NaN</td>\n",
       "      <td>NaN</td>\n",
       "      <td>NaN</td>\n",
       "      <td>...</td>\n",
       "      <td>NaN</td>\n",
       "      <td>NaN</td>\n",
       "      <td>NaN</td>\n",
       "      <td>NaN</td>\n",
       "      <td>NaN</td>\n",
       "      <td>NaN</td>\n",
       "      <td>NaN</td>\n",
       "      <td>NaN</td>\n",
       "      <td>NaN</td>\n",
       "      <td>NaN</td>\n",
       "    </tr>\n",
       "    <tr>\n",
       "      <th>1</th>\n",
       "      <td>2019S000001</td>\n",
       "      <td>Desobeir semàfor</td>\n",
       "      <td>Desconegut</td>\n",
       "      <td>1</td>\n",
       "      <td>Turisme</td>\n",
       "      <td>Conductor</td>\n",
       "      <td>NaN</td>\n",
       "      <td>NaN</td>\n",
       "      <td>NaN</td>\n",
       "      <td>NaN</td>\n",
       "      <td>...</td>\n",
       "      <td>NaN</td>\n",
       "      <td>NaN</td>\n",
       "      <td>NaN</td>\n",
       "      <td>NaN</td>\n",
       "      <td>NaN</td>\n",
       "      <td>NaN</td>\n",
       "      <td>NaN</td>\n",
       "      <td>NaN</td>\n",
       "      <td>NaN</td>\n",
       "      <td>NaN</td>\n",
       "    </tr>\n",
       "    <tr>\n",
       "      <th>2</th>\n",
       "      <td>2019S000001</td>\n",
       "      <td>No determinada</td>\n",
       "      <td>Desconegut</td>\n",
       "      <td>0</td>\n",
       "      <td>Turisme</td>\n",
       "      <td>Vianant</td>\n",
       "      <td>NaN</td>\n",
       "      <td>NaN</td>\n",
       "      <td>NaN</td>\n",
       "      <td>NaN</td>\n",
       "      <td>...</td>\n",
       "      <td>NaN</td>\n",
       "      <td>NaN</td>\n",
       "      <td>NaN</td>\n",
       "      <td>NaN</td>\n",
       "      <td>NaN</td>\n",
       "      <td>NaN</td>\n",
       "      <td>NaN</td>\n",
       "      <td>NaN</td>\n",
       "      <td>NaN</td>\n",
       "      <td>NaN</td>\n",
       "    </tr>\n",
       "    <tr>\n",
       "      <th>3</th>\n",
       "      <td>2019S000001</td>\n",
       "      <td>No determinada</td>\n",
       "      <td>Desconegut</td>\n",
       "      <td>1</td>\n",
       "      <td>Turisme</td>\n",
       "      <td>Conductor</td>\n",
       "      <td>NaN</td>\n",
       "      <td>Per a la correcta interpretació de les dades, ...</td>\n",
       "      <td>NaN</td>\n",
       "      <td>NaN</td>\n",
       "      <td>...</td>\n",
       "      <td>NaN</td>\n",
       "      <td>NaN</td>\n",
       "      <td>NaN</td>\n",
       "      <td>NaN</td>\n",
       "      <td>NaN</td>\n",
       "      <td>NaN</td>\n",
       "      <td>NaN</td>\n",
       "      <td>NaN</td>\n",
       "      <td>NaN</td>\n",
       "      <td>NaN</td>\n",
       "    </tr>\n",
       "    <tr>\n",
       "      <th>4</th>\n",
       "      <td>2019S000001</td>\n",
       "      <td>No determinada</td>\n",
       "      <td>Desconegut</td>\n",
       "      <td>0</td>\n",
       "      <td>Turisme</td>\n",
       "      <td>Passatger</td>\n",
       "      <td>NaN</td>\n",
       "      <td>·         Sortirà repetit tantes vegades el Nú...</td>\n",
       "      <td>NaN</td>\n",
       "      <td>NaN</td>\n",
       "      <td>...</td>\n",
       "      <td>NaN</td>\n",
       "      <td>NaN</td>\n",
       "      <td>NaN</td>\n",
       "      <td>NaN</td>\n",
       "      <td>NaN</td>\n",
       "      <td>NaN</td>\n",
       "      <td>NaN</td>\n",
       "      <td>NaN</td>\n",
       "      <td>NaN</td>\n",
       "      <td>NaN</td>\n",
       "    </tr>\n",
       "  </tbody>\n",
       "</table>\n",
       "<p>5 rows × 22 columns</p>\n",
       "</div>"
      ],
      "text/plain": [
       "  Número d'expedient Descripció causa conductor Descripció causa vianant  \\\n",
       "0    2019S000001               Desobeir semàfor               Desconegut   \n",
       "1    2019S000001               Desobeir semàfor               Desconegut   \n",
       "2    2019S000001                 No determinada               Desconegut   \n",
       "3    2019S000001                 No determinada               Desconegut   \n",
       "4    2019S000001                 No determinada               Desconegut   \n",
       "\n",
       "   FLAG - Probable responsable Desc. Tipus vehicle implicat  \\\n",
       "0                            0                      Turisme   \n",
       "1                            1                      Turisme   \n",
       "2                            0                      Turisme   \n",
       "3                            1                      Turisme   \n",
       "4                            0                      Turisme   \n",
       "\n",
       "  Descripció tipus persona  Unnamed: 6  \\\n",
       "0                  Vianant         NaN   \n",
       "1                Conductor         NaN   \n",
       "2                  Vianant         NaN   \n",
       "3                Conductor         NaN   \n",
       "4                Passatger         NaN   \n",
       "\n",
       "                                          Unnamed: 7  Unnamed: 8  Unnamed: 9  \\\n",
       "0                                                NaN         NaN         NaN   \n",
       "1                                                NaN         NaN         NaN   \n",
       "2                                                NaN         NaN         NaN   \n",
       "3  Per a la correcta interpretació de les dades, ...         NaN         NaN   \n",
       "4  ·         Sortirà repetit tantes vegades el Nú...         NaN         NaN   \n",
       "\n",
       "   ...  Unnamed: 12  Unnamed: 13  Unnamed: 14  Unnamed: 15  Unnamed: 16  \\\n",
       "0  ...          NaN          NaN          NaN          NaN          NaN   \n",
       "1  ...          NaN          NaN          NaN          NaN          NaN   \n",
       "2  ...          NaN          NaN          NaN          NaN          NaN   \n",
       "3  ...          NaN          NaN          NaN          NaN          NaN   \n",
       "4  ...          NaN          NaN          NaN          NaN          NaN   \n",
       "\n",
       "   Unnamed: 17  Unnamed: 18  Unnamed: 19  Unnamed: 20  Unnamed: 21  \n",
       "0          NaN          NaN          NaN          NaN          NaN  \n",
       "1          NaN          NaN          NaN          NaN          NaN  \n",
       "2          NaN          NaN          NaN          NaN          NaN  \n",
       "3          NaN          NaN          NaN          NaN          NaN  \n",
       "4          NaN          NaN          NaN          NaN          NaN  \n",
       "\n",
       "[5 rows x 22 columns]"
      ]
     },
     "execution_count": 18,
     "metadata": {},
     "output_type": "execute_result"
    }
   ],
   "source": [
    "df.head()"
   ]
  },
  {
   "cell_type": "code",
   "execution_count": 19,
   "id": "4fdb0c96-7dce-470b-946f-eb2d69e489cd",
   "metadata": {
    "tags": []
   },
   "outputs": [],
   "source": [
    "df = df[df.columns[0:6]].copy()"
   ]
  },
  {
   "cell_type": "code",
   "execution_count": 20,
   "id": "76fedb13-615a-4200-bdb7-0208dc3296cf",
   "metadata": {
    "tags": []
   },
   "outputs": [
    {
     "data": {
      "text/html": [
       "<div>\n",
       "<style scoped>\n",
       "    .dataframe tbody tr th:only-of-type {\n",
       "        vertical-align: middle;\n",
       "    }\n",
       "\n",
       "    .dataframe tbody tr th {\n",
       "        vertical-align: top;\n",
       "    }\n",
       "\n",
       "    .dataframe thead th {\n",
       "        text-align: right;\n",
       "    }\n",
       "</style>\n",
       "<table border=\"1\" class=\"dataframe\">\n",
       "  <thead>\n",
       "    <tr style=\"text-align: right;\">\n",
       "      <th></th>\n",
       "      <th>Número d'expedient</th>\n",
       "      <th>Descripció causa conductor</th>\n",
       "      <th>Descripció causa vianant</th>\n",
       "      <th>FLAG - Probable responsable</th>\n",
       "      <th>Desc. Tipus vehicle implicat</th>\n",
       "      <th>Descripció tipus persona</th>\n",
       "    </tr>\n",
       "  </thead>\n",
       "  <tbody>\n",
       "    <tr>\n",
       "      <th>0</th>\n",
       "      <td>2019S000001</td>\n",
       "      <td>Desobeir semàfor</td>\n",
       "      <td>Desconegut</td>\n",
       "      <td>0</td>\n",
       "      <td>Turisme</td>\n",
       "      <td>Vianant</td>\n",
       "    </tr>\n",
       "    <tr>\n",
       "      <th>1</th>\n",
       "      <td>2019S000001</td>\n",
       "      <td>Desobeir semàfor</td>\n",
       "      <td>Desconegut</td>\n",
       "      <td>1</td>\n",
       "      <td>Turisme</td>\n",
       "      <td>Conductor</td>\n",
       "    </tr>\n",
       "    <tr>\n",
       "      <th>2</th>\n",
       "      <td>2019S000001</td>\n",
       "      <td>No determinada</td>\n",
       "      <td>Desconegut</td>\n",
       "      <td>0</td>\n",
       "      <td>Turisme</td>\n",
       "      <td>Vianant</td>\n",
       "    </tr>\n",
       "    <tr>\n",
       "      <th>3</th>\n",
       "      <td>2019S000001</td>\n",
       "      <td>No determinada</td>\n",
       "      <td>Desconegut</td>\n",
       "      <td>1</td>\n",
       "      <td>Turisme</td>\n",
       "      <td>Conductor</td>\n",
       "    </tr>\n",
       "    <tr>\n",
       "      <th>4</th>\n",
       "      <td>2019S000001</td>\n",
       "      <td>No determinada</td>\n",
       "      <td>Desconegut</td>\n",
       "      <td>0</td>\n",
       "      <td>Turisme</td>\n",
       "      <td>Passatger</td>\n",
       "    </tr>\n",
       "  </tbody>\n",
       "</table>\n",
       "</div>"
      ],
      "text/plain": [
       "  Número d'expedient Descripció causa conductor Descripció causa vianant  \\\n",
       "0    2019S000001               Desobeir semàfor               Desconegut   \n",
       "1    2019S000001               Desobeir semàfor               Desconegut   \n",
       "2    2019S000001                 No determinada               Desconegut   \n",
       "3    2019S000001                 No determinada               Desconegut   \n",
       "4    2019S000001                 No determinada               Desconegut   \n",
       "\n",
       "   FLAG - Probable responsable Desc. Tipus vehicle implicat  \\\n",
       "0                            0                      Turisme   \n",
       "1                            1                      Turisme   \n",
       "2                            0                      Turisme   \n",
       "3                            1                      Turisme   \n",
       "4                            0                      Turisme   \n",
       "\n",
       "  Descripció tipus persona  \n",
       "0                  Vianant  \n",
       "1                Conductor  \n",
       "2                  Vianant  \n",
       "3                Conductor  \n",
       "4                Passatger  "
      ]
     },
     "execution_count": 20,
     "metadata": {},
     "output_type": "execute_result"
    }
   ],
   "source": [
    "df.head()"
   ]
  },
  {
   "cell_type": "code",
   "execution_count": 21,
   "id": "b97187af-1a89-40cd-a9a2-0b029493c836",
   "metadata": {
    "tags": []
   },
   "outputs": [
    {
     "name": "stdout",
     "output_type": "stream",
     "text": [
      "Número d'expedient\n",
      "_____\n",
      "2019S005527        10\n",
      "2019S002705        10\n",
      "2019S002467         9\n",
      "2019S009923         9\n",
      "2019S001056         9\n",
      "                   ..\n",
      "2019S005273         1\n",
      "2019S004784         1\n",
      "2019S001636         1\n",
      "2019S009499         1\n",
      "2019S002526         1\n",
      "Name: Número d'expedient, Length: 10015, dtype: int64\n",
      "_____\n",
      "Descripció causa conductor\n",
      "_____\n",
      "Manca d'atenció a la conducció             3894\n",
      "Altres                                     3593\n",
      "No respectar distàncies                    2989\n",
      "Gir indegut o sense precaució              2538\n",
      "Canvi de carril sense precaució            2042\n",
      "Desobeir semàfor                           1997\n",
      "No determinada                             1520\n",
      "Desobeir altres senyals                    1485\n",
      "Desconegut                                  794\n",
      "No respectat pas de vianants                713\n",
      "Avançament defectuós/improcedent            701\n",
      "Manca precaució incorporació circulació     578\n",
      "Manca precaució efectuar marxa enrera       505\n",
      "No cedir la dreta                           208\n",
      "Envair calçada contrària                     84\n",
      "Fallada mecànica o avaria                    28\n",
      "Name: Descripció causa conductor, dtype: int64\n",
      "_____\n",
      "Descripció causa vianant\n",
      "_____\n",
      "Desconegut                         22136\n",
      "Creuar per fora pas de vianants      518\n",
      "Desobeir el senyal del semàfor       512\n",
      "Altres                               373\n",
      "Transitar a peu per la calçada       115\n",
      "Desobeir altres senyals               15\n",
      "Name: Descripció causa vianant, dtype: int64\n",
      "_____\n",
      "FLAG - Probable responsable\n",
      "_____\n",
      " 0    11904\n",
      " 1    11754\n",
      "-1       11\n",
      "Name: FLAG - Probable responsable, dtype: int64\n",
      "_____\n",
      "Desc. Tipus vehicle implicat\n",
      "_____\n",
      "Turisme                                8887\n",
      "Motocicleta                            7329\n",
      "Furgoneta                              1506\n",
      "Ciclomotor                             1239\n",
      "Bicicleta                              1029\n",
      "Taxi                                    843\n",
      "Autobús                                 837\n",
      "Veh. mobilitat personal amb motor       673\n",
      "Camió rígid <= 3,5 tones                280\n",
      "Autobús articulat                       259\n",
      "Camió rígid > 3,5 tones                 218\n",
      "Tot terreny                             174\n",
      "Tractor camió                            95\n",
      "Veh. mobilitat personal sense motor      78\n",
      "Desconegut                               76\n",
      "Altres vehicles amb motor                47\n",
      "Autocar                                  31\n",
      "Maquinària d'obres i serveis             27\n",
      "Tren o tramvia                           13\n",
      "Altres vehicles sense motor              10\n",
      "Pick-up                                   6\n",
      "Quadricicle < 75 cc                       6\n",
      "Carro                                     3\n",
      "Quadricicle > 75 cc                       2\n",
      "Autocaravana                              1\n",
      "Name: Desc. Tipus vehicle implicat, dtype: int64\n",
      "_____\n",
      "Descripció tipus persona\n",
      "_____\n",
      "Conductor     20078\n",
      "Passatger      2117\n",
      "Vianant        1473\n",
      "Desconegut        1\n",
      "Name: Descripció tipus persona, dtype: int64\n",
      "_____\n"
     ]
    }
   ],
   "source": [
    "for col in df.columns:\n",
    "    print(col)\n",
    "    print('_____')\n",
    "    print(df[col].value_counts())\n",
    "    print('_____')"
   ]
  },
  {
   "cell_type": "code",
   "execution_count": 22,
   "id": "2fb6951f-aa92-4594-b3aa-d6749e9ef983",
   "metadata": {
    "tags": []
   },
   "outputs": [],
   "source": [
    "df.to_parquet('../data/parsed/2019.parquet')"
   ]
  },
  {
   "cell_type": "markdown",
   "id": "2fbf16a0-04d7-4649-9ca2-4b1562539d6f",
   "metadata": {},
   "source": [
    "## 2020"
   ]
  },
  {
   "cell_type": "code",
   "execution_count": 23,
   "id": "76848f51-4416-4bd1-b903-1fd6d8213901",
   "metadata": {
    "tags": []
   },
   "outputs": [],
   "source": [
    "file_name = '../data/raw/Accidents-2020_GD.csv'"
   ]
  },
  {
   "cell_type": "code",
   "execution_count": 24,
   "id": "f06cf825-2ee6-4f09-b9ce-15ce53421391",
   "metadata": {
    "tags": []
   },
   "outputs": [],
   "source": [
    "df = pd.read_csv(file_name, sep='\\t', encoding='UTF-16')"
   ]
  },
  {
   "cell_type": "code",
   "execution_count": 25,
   "id": "5ec533b6-894b-4292-9ef4-d0dd04fac239",
   "metadata": {
    "tags": []
   },
   "outputs": [
    {
     "data": {
      "text/html": [
       "<div>\n",
       "<style scoped>\n",
       "    .dataframe tbody tr th:only-of-type {\n",
       "        vertical-align: middle;\n",
       "    }\n",
       "\n",
       "    .dataframe tbody tr th {\n",
       "        vertical-align: top;\n",
       "    }\n",
       "\n",
       "    .dataframe thead th {\n",
       "        text-align: right;\n",
       "    }\n",
       "</style>\n",
       "<table border=\"1\" class=\"dataframe\">\n",
       "  <thead>\n",
       "    <tr style=\"text-align: right;\">\n",
       "      <th></th>\n",
       "      <th>Número d'expedient</th>\n",
       "      <th>Descripció causa conductor</th>\n",
       "      <th>Descripció causa vianant</th>\n",
       "      <th>FLAG - Probable responsable</th>\n",
       "      <th>Desc. Tipus vehicle implicat</th>\n",
       "      <th>Descripció tipus persona</th>\n",
       "      <th>Unnamed: 6</th>\n",
       "      <th>Unnamed: 7</th>\n",
       "    </tr>\n",
       "  </thead>\n",
       "  <tbody>\n",
       "    <tr>\n",
       "      <th>0</th>\n",
       "      <td>2020S000001</td>\n",
       "      <td>Gir indegut o sense precaució</td>\n",
       "      <td>Desconegut</td>\n",
       "      <td>0</td>\n",
       "      <td>Turisme</td>\n",
       "      <td>Conductor</td>\n",
       "      <td>NaN</td>\n",
       "      <td>NaN</td>\n",
       "    </tr>\n",
       "    <tr>\n",
       "      <th>1</th>\n",
       "      <td>2020S000002</td>\n",
       "      <td>No respectat pas de vianants</td>\n",
       "      <td>Desobeir el senyal del semàfor</td>\n",
       "      <td>1</td>\n",
       "      <td>Taxi</td>\n",
       "      <td>Vianant</td>\n",
       "      <td>NaN</td>\n",
       "      <td>NaN</td>\n",
       "    </tr>\n",
       "    <tr>\n",
       "      <th>2</th>\n",
       "      <td>2020S000002</td>\n",
       "      <td>No respectat pas de vianants</td>\n",
       "      <td>Desobeir el senyal del semàfor</td>\n",
       "      <td>1</td>\n",
       "      <td>Taxi</td>\n",
       "      <td>Conductor</td>\n",
       "      <td>NaN</td>\n",
       "      <td>NaN</td>\n",
       "    </tr>\n",
       "    <tr>\n",
       "      <th>3</th>\n",
       "      <td>2020S000003</td>\n",
       "      <td>Gir indegut o sense precaució</td>\n",
       "      <td>Desconegut</td>\n",
       "      <td>1</td>\n",
       "      <td>Turisme</td>\n",
       "      <td>Conductor</td>\n",
       "      <td>NaN</td>\n",
       "      <td>Per a la correcta interpretació de les dades, ...</td>\n",
       "    </tr>\n",
       "    <tr>\n",
       "      <th>4</th>\n",
       "      <td>2020S000003</td>\n",
       "      <td>Gir indegut o sense precaució</td>\n",
       "      <td>Desconegut</td>\n",
       "      <td>0</td>\n",
       "      <td>Motocicleta</td>\n",
       "      <td>Passatger</td>\n",
       "      <td>NaN</td>\n",
       "      <td>·         Sortirà repetit tantes vegades el Nú...</td>\n",
       "    </tr>\n",
       "  </tbody>\n",
       "</table>\n",
       "</div>"
      ],
      "text/plain": [
       "  Número d'expedient     Descripció causa conductor  \\\n",
       "0    2020S000001      Gir indegut o sense precaució   \n",
       "1    2020S000002       No respectat pas de vianants   \n",
       "2    2020S000002       No respectat pas de vianants   \n",
       "3    2020S000003      Gir indegut o sense precaució   \n",
       "4    2020S000003      Gir indegut o sense precaució   \n",
       "\n",
       "         Descripció causa vianant  FLAG - Probable responsable  \\\n",
       "0                      Desconegut                            0   \n",
       "1  Desobeir el senyal del semàfor                            1   \n",
       "2  Desobeir el senyal del semàfor                            1   \n",
       "3                      Desconegut                            1   \n",
       "4                      Desconegut                            0   \n",
       "\n",
       "  Desc. Tipus vehicle implicat Descripció tipus persona  Unnamed: 6  \\\n",
       "0                      Turisme                Conductor         NaN   \n",
       "1                         Taxi                  Vianant         NaN   \n",
       "2                         Taxi                Conductor         NaN   \n",
       "3                      Turisme                Conductor         NaN   \n",
       "4                  Motocicleta                Passatger         NaN   \n",
       "\n",
       "                                          Unnamed: 7  \n",
       "0                                                NaN  \n",
       "1                                                NaN  \n",
       "2                                                NaN  \n",
       "3  Per a la correcta interpretació de les dades, ...  \n",
       "4  ·         Sortirà repetit tantes vegades el Nú...  "
      ]
     },
     "execution_count": 25,
     "metadata": {},
     "output_type": "execute_result"
    }
   ],
   "source": [
    "df.head()"
   ]
  },
  {
   "cell_type": "code",
   "execution_count": 26,
   "id": "588f7042-350f-41ef-8612-7776995823a8",
   "metadata": {
    "tags": []
   },
   "outputs": [],
   "source": [
    "df = df[df.columns[0:6]].copy()"
   ]
  },
  {
   "cell_type": "code",
   "execution_count": 27,
   "id": "a4c51c82-1e50-4f22-8748-0f6d7f6d1b51",
   "metadata": {
    "tags": []
   },
   "outputs": [
    {
     "name": "stdout",
     "output_type": "stream",
     "text": [
      "Número d'expedient\n",
      "_____\n",
      "2020S000334        15\n",
      "2020S004239        12\n",
      "2020S001735        12\n",
      "2020S001092        12\n",
      "2020S004699        12\n",
      "                   ..\n",
      "2020S005544         1\n",
      "2020S005545         1\n",
      "2020S005549         1\n",
      "2020S004246         1\n",
      "2020S000001         1\n",
      "Name: Número d'expedient, Length: 6258, dtype: int64\n",
      "_____\n",
      "Descripció causa conductor\n",
      "_____\n",
      "Manca d'atenció a la conducció             3292\n",
      "Altres                                     2280\n",
      "No respectar distàncies                    1921\n",
      "Gir indegut o sense precaució              1491\n",
      "Desobeir semàfor                           1370\n",
      "Canvi de carril sense precaució            1177\n",
      "Desobeir altres senyals                    1000\n",
      "No determinada                              982\n",
      "Manca precaució incorporació circulació     491\n",
      "Desconegut                                  489\n",
      "Avançament defectuós/improcedent            449\n",
      "No respectat pas de vianants                440\n",
      "Manca precaució efectuar marxa enrera       300\n",
      "No cedir la dreta                           143\n",
      "Envair calçada contrària                     89\n",
      "Fallada mecànica o avaria                    34\n",
      "Name: Descripció causa conductor, dtype: int64\n",
      "_____\n",
      "Descripció causa vianant\n",
      "_____\n",
      "Desconegut                         15050\n",
      "Desobeir el senyal del semàfor       366\n",
      "Creuar per fora pas de vianants      267\n",
      "Altres                               167\n",
      "Transitar a peu per la calçada        94\n",
      "Desobeir altres senyals                4\n",
      "Name: Descripció causa vianant, dtype: int64\n",
      "_____\n",
      "FLAG - Probable responsable\n",
      "_____\n",
      " 1    8178\n",
      " 0    7767\n",
      "-1       3\n",
      "Name: FLAG - Probable responsable, dtype: int64\n",
      "_____\n",
      "Desc. Tipus vehicle implicat\n",
      "_____\n",
      "Turisme                                5650\n",
      "Motocicleta                            4884\n",
      "Furgoneta                              1143\n",
      "Bicicleta                               920\n",
      "Veh. mobilitat personal amb motor       771\n",
      "Ciclomotor                              738\n",
      "Autobús                                 519\n",
      "Taxi                                    311\n",
      "Autobús articulat                       289\n",
      "Camió rígid <= 3,5 tones                183\n",
      "Camió rígid > 3,5 tones                 182\n",
      "Tot terreny                             147\n",
      "Tractor camió                            70\n",
      "Veh. mobilitat personal sense motor      38\n",
      "Altres vehicles amb motor                26\n",
      "Desconegut                               24\n",
      "Maquinària d'obres i serveis             19\n",
      "Tren o tramvia                           13\n",
      "Altres vehicles sense motor               5\n",
      "Quadricicle < 75 cc                       4\n",
      "Ambulància                                4\n",
      "Pick-up                                   3\n",
      "Autocaravana                              3\n",
      "Microbús <= 17                            2\n",
      "Name: Desc. Tipus vehicle implicat, dtype: int64\n",
      "_____\n",
      "Descripció tipus persona\n",
      "_____\n",
      "Conductor     13600\n",
      "Passatger      1424\n",
      "Vianant         920\n",
      "Desconegut        4\n",
      "Name: Descripció tipus persona, dtype: int64\n",
      "_____\n"
     ]
    }
   ],
   "source": [
    "for col in df.columns:\n",
    "    print(col)\n",
    "    print('_____')\n",
    "    print(df[col].value_counts())\n",
    "    print('_____')"
   ]
  },
  {
   "cell_type": "code",
   "execution_count": 28,
   "id": "393264ed-f9d0-4f7a-a7ab-5f4012283127",
   "metadata": {
    "tags": []
   },
   "outputs": [],
   "source": [
    "df.to_parquet('../data/parsed/2020.parquet')"
   ]
  },
  {
   "cell_type": "markdown",
   "id": "48799957-b585-4a8e-bc54-47a404fbad9e",
   "metadata": {},
   "source": [
    "## 2021"
   ]
  },
  {
   "cell_type": "code",
   "execution_count": 29,
   "id": "e23032e5-c135-4ec0-8697-8a13223360f6",
   "metadata": {
    "tags": []
   },
   "outputs": [],
   "source": [
    "file_name = '../data/raw/Accidents-2021_GD.csv'"
   ]
  },
  {
   "cell_type": "code",
   "execution_count": 30,
   "id": "8c06e9d5-854b-4eeb-a09f-74215fe25d1d",
   "metadata": {
    "tags": []
   },
   "outputs": [],
   "source": [
    "df = pd.read_csv(file_name, sep='\\t', encoding='UTF-16')"
   ]
  },
  {
   "cell_type": "code",
   "execution_count": 31,
   "id": "7e85d791-37f5-40e3-ac75-6cf40ada50f4",
   "metadata": {
    "tags": []
   },
   "outputs": [
    {
     "data": {
      "text/html": [
       "<div>\n",
       "<style scoped>\n",
       "    .dataframe tbody tr th:only-of-type {\n",
       "        vertical-align: middle;\n",
       "    }\n",
       "\n",
       "    .dataframe tbody tr th {\n",
       "        vertical-align: top;\n",
       "    }\n",
       "\n",
       "    .dataframe thead th {\n",
       "        text-align: right;\n",
       "    }\n",
       "</style>\n",
       "<table border=\"1\" class=\"dataframe\">\n",
       "  <thead>\n",
       "    <tr style=\"text-align: right;\">\n",
       "      <th></th>\n",
       "      <th>Número d'expedient</th>\n",
       "      <th>Descripció causa conductor</th>\n",
       "      <th>Descripció causa vianant</th>\n",
       "      <th>FLAG - Probable responsable</th>\n",
       "      <th>Desc. Tipus vehicle implicat</th>\n",
       "      <th>Descripció tipus persona</th>\n",
       "      <th>Unnamed: 6</th>\n",
       "      <th>Unnamed: 7</th>\n",
       "    </tr>\n",
       "  </thead>\n",
       "  <tbody>\n",
       "    <tr>\n",
       "      <th>0</th>\n",
       "      <td>2021S000001</td>\n",
       "      <td>Desobeir altres senyals</td>\n",
       "      <td>Desconegut</td>\n",
       "      <td>1</td>\n",
       "      <td>Turisme</td>\n",
       "      <td>Conductor</td>\n",
       "      <td>NaN</td>\n",
       "      <td>NaN</td>\n",
       "    </tr>\n",
       "    <tr>\n",
       "      <th>1</th>\n",
       "      <td>2021S000001</td>\n",
       "      <td>Desobeir altres senyals</td>\n",
       "      <td>Desconegut</td>\n",
       "      <td>0</td>\n",
       "      <td>Motocicleta</td>\n",
       "      <td>Conductor</td>\n",
       "      <td>NaN</td>\n",
       "      <td>NaN</td>\n",
       "    </tr>\n",
       "    <tr>\n",
       "      <th>2</th>\n",
       "      <td>2021S000002</td>\n",
       "      <td>Manca d'atenció a la conducció</td>\n",
       "      <td>Desconegut</td>\n",
       "      <td>0</td>\n",
       "      <td>Ciclomotor</td>\n",
       "      <td>Conductor</td>\n",
       "      <td>NaN</td>\n",
       "      <td>NaN</td>\n",
       "    </tr>\n",
       "    <tr>\n",
       "      <th>3</th>\n",
       "      <td>2021S000002</td>\n",
       "      <td>Manca d'atenció a la conducció</td>\n",
       "      <td>Desconegut</td>\n",
       "      <td>0</td>\n",
       "      <td>Turisme</td>\n",
       "      <td>Conductor</td>\n",
       "      <td>NaN</td>\n",
       "      <td>Per a la correcta interpretació de les dades, ...</td>\n",
       "    </tr>\n",
       "    <tr>\n",
       "      <th>4</th>\n",
       "      <td>2021S000002</td>\n",
       "      <td>Manca d'atenció a la conducció</td>\n",
       "      <td>Desconegut</td>\n",
       "      <td>1</td>\n",
       "      <td>Turisme</td>\n",
       "      <td>Conductor</td>\n",
       "      <td>NaN</td>\n",
       "      <td>·         Sortirà repetit tantes vegades el Nú...</td>\n",
       "    </tr>\n",
       "  </tbody>\n",
       "</table>\n",
       "</div>"
      ],
      "text/plain": [
       "  Número d'expedient      Descripció causa conductor Descripció causa vianant  \\\n",
       "0    2021S000001             Desobeir altres senyals               Desconegut   \n",
       "1    2021S000001             Desobeir altres senyals               Desconegut   \n",
       "2    2021S000002      Manca d'atenció a la conducció               Desconegut   \n",
       "3    2021S000002      Manca d'atenció a la conducció               Desconegut   \n",
       "4    2021S000002      Manca d'atenció a la conducció               Desconegut   \n",
       "\n",
       "   FLAG - Probable responsable Desc. Tipus vehicle implicat  \\\n",
       "0                            1                      Turisme   \n",
       "1                            0                  Motocicleta   \n",
       "2                            0                   Ciclomotor   \n",
       "3                            0                      Turisme   \n",
       "4                            1                      Turisme   \n",
       "\n",
       "  Descripció tipus persona  Unnamed: 6  \\\n",
       "0                Conductor         NaN   \n",
       "1                Conductor         NaN   \n",
       "2                Conductor         NaN   \n",
       "3                Conductor         NaN   \n",
       "4                Conductor         NaN   \n",
       "\n",
       "                                          Unnamed: 7  \n",
       "0                                                NaN  \n",
       "1                                                NaN  \n",
       "2                                                NaN  \n",
       "3  Per a la correcta interpretació de les dades, ...  \n",
       "4  ·         Sortirà repetit tantes vegades el Nú...  "
      ]
     },
     "execution_count": 31,
     "metadata": {},
     "output_type": "execute_result"
    }
   ],
   "source": [
    "df.head()"
   ]
  },
  {
   "cell_type": "code",
   "execution_count": 32,
   "id": "c993893f-4db1-4810-a655-623a5ecca343",
   "metadata": {
    "tags": []
   },
   "outputs": [],
   "source": [
    "df = df[df.columns[0:6]].copy()"
   ]
  },
  {
   "cell_type": "code",
   "execution_count": 33,
   "id": "496fc076-fc68-4b78-aa4f-95686b91f308",
   "metadata": {
    "tags": []
   },
   "outputs": [
    {
     "name": "stdout",
     "output_type": "stream",
     "text": [
      "Número d'expedient\n",
      "_____\n",
      "2021S004043        12\n",
      "2021S004695        12\n",
      "2021S003796        12\n",
      "2021S001959        12\n",
      "2021S001997        10\n",
      "                   ..\n",
      "2021S003921         1\n",
      "2021S006213         1\n",
      "2021S005419         1\n",
      "2021S000589         1\n",
      "2021S007155         1\n",
      "Name: Número d'expedient, Length: 7647, dtype: int64\n",
      "_____\n",
      "Descripció causa conductor\n",
      "_____\n",
      "Manca d'atenció a la conducció             4217\n",
      "No respectar distàncies                    2338\n",
      "Altres                                     1921\n",
      "Gir indegut o sense precaució              1899\n",
      "Desobeir semàfor                           1656\n",
      "No determinada                             1399\n",
      "Canvi de carril sense precaució            1392\n",
      "Desobeir altres senyals                    1209\n",
      "Avançament defectuós/improcedent            646\n",
      "Desconegut                                  594\n",
      "Manca precaució incorporació circulació     549\n",
      "No respectat pas de vianants                541\n",
      "Manca precaució efectuar marxa enrera       395\n",
      "No cedir la dreta                           166\n",
      "Envair calçada contrària                     97\n",
      "Fallada mecànica o avaria                    44\n",
      "Name: Descripció causa conductor, dtype: int64\n",
      "_____\n",
      "Descripció causa vianant\n",
      "_____\n",
      "Desconegut                         17915\n",
      "Desobeir el senyal del semàfor       439\n",
      "Creuar per fora pas de vianants      369\n",
      "Altres                               222\n",
      "Transitar a peu per la calçada       110\n",
      "Desobeir altres senyals                8\n",
      "Name: Descripció causa vianant, dtype: int64\n",
      "_____\n",
      "FLAG - Probable responsable\n",
      "_____\n",
      " 1    9655\n",
      " 0    9405\n",
      "-1       3\n",
      "Name: FLAG - Probable responsable, dtype: int64\n",
      "_____\n",
      "Desc. Tipus vehicle implicat\n",
      "_____\n",
      "Turisme                                6729\n",
      "Motocicleta                            5485\n",
      "Furgoneta                              1305\n",
      "Bicicleta                              1185\n",
      "Veh. mobilitat personal amb motor      1153\n",
      "Ciclomotor                              790\n",
      "Autobús                                 724\n",
      "Taxi                                    475\n",
      "Autobús articulat                       319\n",
      "Camió rígid <= 3,5 tones                214\n",
      "Camió rígid > 3,5 tones                 205\n",
      "Tot terreny                             160\n",
      "Altres vehicles amb motor                82\n",
      "Tractor camió                            65\n",
      "Ambulància                               63\n",
      "Desconegut                               46\n",
      "Maquinària d'obres i serveis             20\n",
      "Tren o tramvia                           16\n",
      "Quadricicle < 75 cc                      11\n",
      "Veh. mobilitat personal sense motor       7\n",
      "Quadricicle > 75 cc                       3\n",
      "Altres vehicles sense motor               3\n",
      "Autocar                                   2\n",
      "Autocaravana                              1\n",
      "Name: Desc. Tipus vehicle implicat, dtype: int64\n",
      "_____\n",
      "Descripció tipus persona\n",
      "_____\n",
      "Conductor     16153\n",
      "Passatger      1762\n",
      "Vianant        1147\n",
      "Desconegut        1\n",
      "Name: Descripció tipus persona, dtype: int64\n",
      "_____\n"
     ]
    }
   ],
   "source": [
    "for col in df.columns:\n",
    "    print(col)\n",
    "    print('_____')\n",
    "    print(df[col].value_counts())\n",
    "    print('_____')"
   ]
  },
  {
   "cell_type": "code",
   "execution_count": 34,
   "id": "a5f96bf2-dc14-42c0-900b-dd9c4b5ec070",
   "metadata": {
    "tags": []
   },
   "outputs": [],
   "source": [
    "df.to_parquet('../data/parsed/2021.parquet')"
   ]
  },
  {
   "cell_type": "markdown",
   "id": "ef8d8213-0005-45e1-a95a-befc494fb1f0",
   "metadata": {},
   "source": [
    "# 2022"
   ]
  },
  {
   "cell_type": "code",
   "execution_count": 89,
   "id": "421f6a02-630a-4892-8e30-d12bc5e0b599",
   "metadata": {
    "tags": []
   },
   "outputs": [],
   "source": [
    "file_name = '../data/raw/Accidents-2022_GD.csv'"
   ]
  },
  {
   "cell_type": "code",
   "execution_count": 90,
   "id": "eca4276f-6ab5-4f4e-bac0-326a92f2b293",
   "metadata": {
    "tags": []
   },
   "outputs": [],
   "source": [
    "df = pd.read_csv(file_name,  encoding='latin1',delimiter=';',)"
   ]
  },
  {
   "cell_type": "code",
   "execution_count": 91,
   "id": "0c98a03e-1acd-46f9-ab04-2b8ff4545321",
   "metadata": {
    "tags": []
   },
   "outputs": [
    {
     "data": {
      "text/html": [
       "<div>\n",
       "<style scoped>\n",
       "    .dataframe tbody tr th:only-of-type {\n",
       "        vertical-align: middle;\n",
       "    }\n",
       "\n",
       "    .dataframe tbody tr th {\n",
       "        vertical-align: top;\n",
       "    }\n",
       "\n",
       "    .dataframe thead th {\n",
       "        text-align: right;\n",
       "    }\n",
       "</style>\n",
       "<table border=\"1\" class=\"dataframe\">\n",
       "  <thead>\n",
       "    <tr style=\"text-align: right;\">\n",
       "      <th></th>\n",
       "      <th>Número d'expedient</th>\n",
       "      <th>Descripció causa conductor</th>\n",
       "      <th>Descripció causa vianant</th>\n",
       "      <th>FLAG - Probable responsable</th>\n",
       "      <th>Desc. Tipus vehicle implicat</th>\n",
       "      <th>Descripció tipus persona</th>\n",
       "    </tr>\n",
       "  </thead>\n",
       "  <tbody>\n",
       "    <tr>\n",
       "      <th>0</th>\n",
       "      <td>2022S000001</td>\n",
       "      <td>Manca d'atenci¢ a la conducci¢</td>\n",
       "      <td>Desconegut</td>\n",
       "      <td>0.0</td>\n",
       "      <td>Turisme</td>\n",
       "      <td>Conductor</td>\n",
       "    </tr>\n",
       "    <tr>\n",
       "      <th>1</th>\n",
       "      <td>2022S000001</td>\n",
       "      <td>Manca d'atenci¢ a la conducci¢</td>\n",
       "      <td>Desconegut</td>\n",
       "      <td>1.0</td>\n",
       "      <td>Motocicleta</td>\n",
       "      <td>Conductor</td>\n",
       "    </tr>\n",
       "    <tr>\n",
       "      <th>2</th>\n",
       "      <td>2022S000002</td>\n",
       "      <td>Gir indegut o sense precauci¢</td>\n",
       "      <td>Desconegut</td>\n",
       "      <td>1.0</td>\n",
       "      <td>Turisme</td>\n",
       "      <td>Conductor</td>\n",
       "    </tr>\n",
       "    <tr>\n",
       "      <th>3</th>\n",
       "      <td>2022S000002</td>\n",
       "      <td>Gir indegut o sense precauci¢</td>\n",
       "      <td>Desconegut</td>\n",
       "      <td>0.0</td>\n",
       "      <td>Motocicleta</td>\n",
       "      <td>Conductor</td>\n",
       "    </tr>\n",
       "    <tr>\n",
       "      <th>4</th>\n",
       "      <td>2022S000003</td>\n",
       "      <td>Envair calada contr",
       "ria</td>\n",
       "      <td>Desconegut</td>\n",
       "      <td>1.0</td>\n",
       "      <td>Bicicleta</td>\n",
       "      <td>Conductor</td>\n",
       "    </tr>\n",
       "  </tbody>\n",
       "</table>\n",
       "</div>"
      ],
      "text/plain": [
       "  Número d'expedient      Descripció causa conductor Descripció causa vianant  \\\n",
       "0    2022S000001      Manca d'atenci¢ a la conducci¢               Desconegut   \n",
       "1    2022S000001      Manca d'atenci¢ a la conducci¢               Desconegut   \n",
       "2    2022S000002       Gir indegut o sense precauci¢               Desconegut   \n",
       "3    2022S000002       Gir indegut o sense precauci¢               Desconegut   \n",
       "4    2022S000003            Envair calada contr\n",
       "ria               Desconegut   \n",
       "\n",
       "   FLAG - Probable responsable Desc. Tipus vehicle implicat  \\\n",
       "0                          0.0                      Turisme   \n",
       "1                          1.0                  Motocicleta   \n",
       "2                          1.0                      Turisme   \n",
       "3                          0.0                  Motocicleta   \n",
       "4                          1.0                    Bicicleta   \n",
       "\n",
       "  Descripció tipus persona  \n",
       "0                Conductor  \n",
       "1                Conductor  \n",
       "2                Conductor  \n",
       "3                Conductor  \n",
       "4                Conductor  "
      ]
     },
     "execution_count": 91,
     "metadata": {},
     "output_type": "execute_result"
    }
   ],
   "source": [
    "df.head()"
   ]
  },
  {
   "cell_type": "code",
   "execution_count": 92,
   "id": "e6716e1a-e6bc-4c7a-a09a-80f36625740c",
   "metadata": {
    "tags": []
   },
   "outputs": [],
   "source": [
    "df = df[df.columns[0:6]].copy()"
   ]
  },
  {
   "cell_type": "code",
   "execution_count": 93,
   "id": "a9784f42-7833-4f6c-872e-f89214781b6f",
   "metadata": {
    "tags": []
   },
   "outputs": [
    {
     "name": "stdout",
     "output_type": "stream",
     "text": [
      "Número d'expedient\n",
      "_____\n",
      "2022S007550        24\n",
      "2022S006721        12\n",
      "2022S007551        12\n",
      "2022S002851        12\n",
      "2022S001750        12\n",
      "                   ..\n",
      "2022S004935         1\n",
      "2022S000627         1\n",
      "2022S004062         1\n",
      "2022S003562         1\n",
      "2022S001299         1\n",
      "Name: Número d'expedient, Length: 7984, dtype: int64\n",
      "_____\n",
      "Descripció causa conductor\n",
      "_____\n",
      "Manca d'atenci¢ a la conducci¢             4299\n",
      "No respectar dist",
      "ncies                    2478\n",
      "Altres                                     2220\n",
      "Gir indegut o sense precauci¢              1975\n",
      "Desobeir sem",
      "for                           1615\n",
      "No determinada                             1496\n",
      "Canvi de carril sense precauci¢            1461\n",
      "Desobeir altres senyals                    1164\n",
      "Desconegut                                  692\n",
      "Avanament defectu¢s/improcedent            684\n",
      "Manca precauci¢ incorporaci¢ circulaci¢     532\n",
      "No respectat pas de vianants                476\n",
      "Manca precauci¢ efectuar marxa enrera       366\n",
      "No cedir la dreta                           144\n",
      "Envair calada contr",
      "ria                     92\n",
      "Fallada mec",
      "nica o avaria                    30\n",
      "Name: Descripció causa conductor, dtype: int64\n",
      "_____\n",
      "Descripció causa vianant\n",
      "_____\n",
      "Desconegut                         18509\n",
      "Desobeir el senyal del sem",
      "for       434\n",
      "Creuar per fora pas de vianants      407\n",
      "Altres                               289\n",
      "Transitar a peu per la calada        81\n",
      "Desobeir altres senyals                4\n",
      "Name: Descripció causa vianant, dtype: int64\n",
      "_____\n",
      "FLAG - Probable responsable\n",
      "_____\n",
      "1.0    9905\n",
      "0.0    9806\n",
      "Name: FLAG - Probable responsable, dtype: int64\n",
      "_____\n",
      "Desc. Tipus vehicle implicat\n",
      "_____\n",
      "Turisme                                6812\n",
      "Motocicleta                            5723\n",
      "Veh. mobilitat personal amb motor      1363\n",
      "Furgoneta                              1227\n",
      "Bicicleta                              1134\n",
      "Taxi                                    781\n",
      "Autob£s                                 771\n",
      "Ciclomotor                              670\n",
      "Autob£s articulat                       357\n",
      "Cami¢ r¡gid <= 3,5 tones                219\n",
      "Cami¢ r¡gid > 3,5 tones                 174\n",
      "Tot terreny                             170\n",
      "Altres vehicles amb motor                68\n",
      "Desconegut                               57\n",
      "Tractor cami¢                            56\n",
      "Ambul",
      "ncia                               49\n",
      "Autocar                                  18\n",
      "Maquin",
      "ria d'obres i serveis             17\n",
      "Tren o tramvia                           15\n",
      "Veh. mobilitat personal sense motor      15\n",
      "Quadricicle < 75 cc                      11\n",
      "Autocaravana                              6\n",
      "Pick-up                                   4\n",
      "Altres vehicles sense motor               3\n",
      "Tricicle                                  3\n",
      "Quadricicle > 75 cc                       1\n",
      "Name: Desc. Tipus vehicle implicat, dtype: int64\n",
      "_____\n",
      "Descripció tipus persona\n",
      "_____\n",
      "Conductor    16656\n",
      "Passatger     1800\n",
      "Vianant       1268\n",
      "Name: Descripció tipus persona, dtype: int64\n",
      "_____\n"
     ]
    }
   ],
   "source": [
    "for col in df.columns:\n",
    "    print(col)\n",
    "    print('_____')\n",
    "    print(df[col].value_counts())\n",
    "    print('_____')"
   ]
  },
  {
   "cell_type": "markdown",
   "id": "5dbd5428-0d57-44ff-bb03-88f7bf2e95e3",
   "metadata": {},
   "source": [
    "2022 has a lot of badly formatted data. We will import another year to correct those values."
   ]
  },
  {
   "cell_type": "code",
   "execution_count": 94,
   "id": "8d8de4f4-180f-4ecf-bc48-b968888c9b02",
   "metadata": {
    "tags": []
   },
   "outputs": [],
   "source": [
    "another_year_data = pd.read_parquet('../data/parsed/2019.parquet')"
   ]
  },
  {
   "cell_type": "code",
   "execution_count": 95,
   "id": "7bfa7ae0-51b3-4654-99f9-7f3fb987f859",
   "metadata": {
    "tags": []
   },
   "outputs": [
    {
     "data": {
      "text/html": [
       "<div>\n",
       "<style scoped>\n",
       "    .dataframe tbody tr th:only-of-type {\n",
       "        vertical-align: middle;\n",
       "    }\n",
       "\n",
       "    .dataframe tbody tr th {\n",
       "        vertical-align: top;\n",
       "    }\n",
       "\n",
       "    .dataframe thead th {\n",
       "        text-align: right;\n",
       "    }\n",
       "</style>\n",
       "<table border=\"1\" class=\"dataframe\">\n",
       "  <thead>\n",
       "    <tr style=\"text-align: right;\">\n",
       "      <th></th>\n",
       "      <th>Número d'expedient</th>\n",
       "      <th>Descripció causa conductor</th>\n",
       "      <th>Descripció causa vianant</th>\n",
       "      <th>FLAG - Probable responsable</th>\n",
       "      <th>Desc. Tipus vehicle implicat</th>\n",
       "      <th>Descripció tipus persona</th>\n",
       "    </tr>\n",
       "  </thead>\n",
       "  <tbody>\n",
       "    <tr>\n",
       "      <th>0</th>\n",
       "      <td>2019S000001</td>\n",
       "      <td>Desobeir semàfor</td>\n",
       "      <td>Desconegut</td>\n",
       "      <td>0</td>\n",
       "      <td>Turisme</td>\n",
       "      <td>Vianant</td>\n",
       "    </tr>\n",
       "    <tr>\n",
       "      <th>1</th>\n",
       "      <td>2019S000001</td>\n",
       "      <td>Desobeir semàfor</td>\n",
       "      <td>Desconegut</td>\n",
       "      <td>1</td>\n",
       "      <td>Turisme</td>\n",
       "      <td>Conductor</td>\n",
       "    </tr>\n",
       "    <tr>\n",
       "      <th>2</th>\n",
       "      <td>2019S000001</td>\n",
       "      <td>No determinada</td>\n",
       "      <td>Desconegut</td>\n",
       "      <td>0</td>\n",
       "      <td>Turisme</td>\n",
       "      <td>Vianant</td>\n",
       "    </tr>\n",
       "    <tr>\n",
       "      <th>3</th>\n",
       "      <td>2019S000001</td>\n",
       "      <td>No determinada</td>\n",
       "      <td>Desconegut</td>\n",
       "      <td>1</td>\n",
       "      <td>Turisme</td>\n",
       "      <td>Conductor</td>\n",
       "    </tr>\n",
       "    <tr>\n",
       "      <th>4</th>\n",
       "      <td>2019S000001</td>\n",
       "      <td>No determinada</td>\n",
       "      <td>Desconegut</td>\n",
       "      <td>0</td>\n",
       "      <td>Turisme</td>\n",
       "      <td>Passatger</td>\n",
       "    </tr>\n",
       "    <tr>\n",
       "      <th>...</th>\n",
       "      <td>...</td>\n",
       "      <td>...</td>\n",
       "      <td>...</td>\n",
       "      <td>...</td>\n",
       "      <td>...</td>\n",
       "      <td>...</td>\n",
       "    </tr>\n",
       "    <tr>\n",
       "      <th>23664</th>\n",
       "      <td>2019S010050</td>\n",
       "      <td>Manca d'atenció a la conducció</td>\n",
       "      <td>Desconegut</td>\n",
       "      <td>0</td>\n",
       "      <td>Turisme</td>\n",
       "      <td>Conductor</td>\n",
       "    </tr>\n",
       "    <tr>\n",
       "      <th>23665</th>\n",
       "      <td>2019S010050</td>\n",
       "      <td>No determinada</td>\n",
       "      <td>Desconegut</td>\n",
       "      <td>0</td>\n",
       "      <td>Turisme</td>\n",
       "      <td>Conductor</td>\n",
       "    </tr>\n",
       "    <tr>\n",
       "      <th>23666</th>\n",
       "      <td>2019S010050</td>\n",
       "      <td>Manca d'atenció a la conducció</td>\n",
       "      <td>Desconegut</td>\n",
       "      <td>1</td>\n",
       "      <td>Motocicleta</td>\n",
       "      <td>Conductor</td>\n",
       "    </tr>\n",
       "    <tr>\n",
       "      <th>23667</th>\n",
       "      <td>2019S010051</td>\n",
       "      <td>No determinada</td>\n",
       "      <td>Desconegut</td>\n",
       "      <td>0</td>\n",
       "      <td>Motocicleta</td>\n",
       "      <td>Passatger</td>\n",
       "    </tr>\n",
       "    <tr>\n",
       "      <th>23668</th>\n",
       "      <td>2019S010051</td>\n",
       "      <td>No determinada</td>\n",
       "      <td>Desconegut</td>\n",
       "      <td>1</td>\n",
       "      <td>Motocicleta</td>\n",
       "      <td>Conductor</td>\n",
       "    </tr>\n",
       "  </tbody>\n",
       "</table>\n",
       "<p>23669 rows × 6 columns</p>\n",
       "</div>"
      ],
      "text/plain": [
       "      Número d'expedient      Descripció causa conductor  \\\n",
       "0        2019S000001                    Desobeir semàfor   \n",
       "1        2019S000001                    Desobeir semàfor   \n",
       "2        2019S000001                      No determinada   \n",
       "3        2019S000001                      No determinada   \n",
       "4        2019S000001                      No determinada   \n",
       "...                  ...                             ...   \n",
       "23664    2019S010050      Manca d'atenció a la conducció   \n",
       "23665    2019S010050                      No determinada   \n",
       "23666    2019S010050      Manca d'atenció a la conducció   \n",
       "23667    2019S010051                      No determinada   \n",
       "23668    2019S010051                      No determinada   \n",
       "\n",
       "      Descripció causa vianant  FLAG - Probable responsable  \\\n",
       "0                   Desconegut                            0   \n",
       "1                   Desconegut                            1   \n",
       "2                   Desconegut                            0   \n",
       "3                   Desconegut                            1   \n",
       "4                   Desconegut                            0   \n",
       "...                        ...                          ...   \n",
       "23664               Desconegut                            0   \n",
       "23665               Desconegut                            0   \n",
       "23666               Desconegut                            1   \n",
       "23667               Desconegut                            0   \n",
       "23668               Desconegut                            1   \n",
       "\n",
       "      Desc. Tipus vehicle implicat Descripció tipus persona  \n",
       "0                          Turisme                  Vianant  \n",
       "1                          Turisme                Conductor  \n",
       "2                          Turisme                  Vianant  \n",
       "3                          Turisme                Conductor  \n",
       "4                          Turisme                Passatger  \n",
       "...                            ...                      ...  \n",
       "23664                      Turisme                Conductor  \n",
       "23665                      Turisme                Conductor  \n",
       "23666                  Motocicleta                Conductor  \n",
       "23667                  Motocicleta                Passatger  \n",
       "23668                  Motocicleta                Conductor  \n",
       "\n",
       "[23669 rows x 6 columns]"
      ]
     },
     "execution_count": 95,
     "metadata": {},
     "output_type": "execute_result"
    }
   ],
   "source": [
    "another_year_data"
   ]
  },
  {
   "cell_type": "code",
   "execution_count": 96,
   "id": "609587e3-413c-4598-ac69-8179ee4c8041",
   "metadata": {
    "tags": []
   },
   "outputs": [
    {
     "data": {
      "text/plain": [
       "Index(['Número d'expedient', 'Descripció causa conductor',\n",
       "       'Descripció causa vianant', 'FLAG - Probable responsable',\n",
       "       'Desc. Tipus vehicle implicat', 'Descripció tipus persona'],\n",
       "      dtype='object')"
      ]
     },
     "execution_count": 96,
     "metadata": {},
     "output_type": "execute_result"
    }
   ],
   "source": [
    "another_year_data.columns"
   ]
  },
  {
   "cell_type": "code",
   "execution_count": 97,
   "id": "ae0b63f1-fb9e-4083-a4ad-6164d31e43df",
   "metadata": {
    "tags": []
   },
   "outputs": [],
   "source": [
    "from fuzzywuzzy import process\n",
    "\n",
    "def fuzzy_match_list_of_strings(list1, list2, threshold=90):\n",
    "    response = []\n",
    "    for name_to_find in list1:\n",
    "        resp_match =  process.extractOne(name_to_find ,list2)\n",
    "        if resp_match[1] > threshold:\n",
    "            row = {'list1_value':name_to_find,'list2_value':resp_match[0], 'score':resp_match[1]}\n",
    "            response.append(row)\n",
    "\n",
    "    results = pd.DataFrame(response)\n",
    "\n",
    "    # If you need all the 'actual_name' tp be in the datframe, continue below\n",
    "    # Otherwise don't include these last 2 lines of code\n",
    "    unmatched = pd.DataFrame([x for x in list2 if x not in list(results['list2_value'])], columns=['list2_value'])\n",
    "    results = pd.concat([results,unmatched],axis=0).reset_index(drop=True)\n",
    "    return results[results.list1_value!=results.list2_value]\n",
    "\n",
    "def fix_col_with_dict(df,col,cdict):\n",
    "    df[col] = df[col].apply(lambda x: cdict[x] if x in cdict.keys()  else x)"
   ]
  },
  {
   "cell_type": "code",
   "execution_count": 98,
   "id": "4cf98966-79e2-4951-a807-0975c97ea32a",
   "metadata": {
    "tags": []
   },
   "outputs": [],
   "source": [
    "# We will go over the columns and identify possible corrections to the values, to be manually corrected later\n",
    "cols_to_correct = ['Descripció causa conductor','Desc. Tipus vehicle implicat','Descripció causa vianant']\n",
    "\n",
    "correction_dfs = {}\n",
    "\n",
    "for col in cols_to_correct:\n",
    "    right_values = another_year_data[col].unique()\n",
    "    values_to_correct = df[col].unique()\n",
    "    \n",
    "    corrections = fuzzy_match_list_of_strings(right_values, values_to_correct)\n",
    "    correction_dfs[col] = corrections"
   ]
  },
  {
   "cell_type": "code",
   "execution_count": 99,
   "id": "f002766b-5521-4e3c-b014-0418262d784e",
   "metadata": {
    "tags": []
   },
   "outputs": [
    {
     "data": {
      "text/html": [
       "<div>\n",
       "<style scoped>\n",
       "    .dataframe tbody tr th:only-of-type {\n",
       "        vertical-align: middle;\n",
       "    }\n",
       "\n",
       "    .dataframe tbody tr th {\n",
       "        vertical-align: top;\n",
       "    }\n",
       "\n",
       "    .dataframe thead th {\n",
       "        text-align: right;\n",
       "    }\n",
       "</style>\n",
       "<table border=\"1\" class=\"dataframe\">\n",
       "  <thead>\n",
       "    <tr style=\"text-align: right;\">\n",
       "      <th></th>\n",
       "      <th>list1_value</th>\n",
       "      <th>list2_value</th>\n",
       "      <th>score</th>\n",
       "    </tr>\n",
       "  </thead>\n",
       "  <tbody>\n",
       "    <tr>\n",
       "      <th>0</th>\n",
       "      <td>Desobeir semàfor</td>\n",
       "      <td>Desobeir sem",
       "for</td>\n",
       "      <td>100.0</td>\n",
       "    </tr>\n",
       "    <tr>\n",
       "      <th>5</th>\n",
       "      <td>No respectar distàncies</td>\n",
       "      <td>No respectar dist",
       "ncies</td>\n",
       "      <td>100.0</td>\n",
       "    </tr>\n",
       "    <tr>\n",
       "      <th>6</th>\n",
       "      <td>Gir indegut o sense precaució</td>\n",
       "      <td>Gir indegut o sense precauci¢</td>\n",
       "      <td>100.0</td>\n",
       "    </tr>\n",
       "    <tr>\n",
       "      <th>7</th>\n",
       "      <td>Manca d'atenció a la conducció</td>\n",
       "      <td>Manca d'atenci¢ a la conducci¢</td>\n",
       "      <td>100.0</td>\n",
       "    </tr>\n",
       "    <tr>\n",
       "      <th>8</th>\n",
       "      <td>Canvi de carril sense precaució</td>\n",
       "      <td>Canvi de carril sense precauci¢</td>\n",
       "      <td>100.0</td>\n",
       "    </tr>\n",
       "    <tr>\n",
       "      <th>11</th>\n",
       "      <td>Manca precaució incorporació circulació</td>\n",
       "      <td>Manca precauci¢ incorporaci¢ circulaci¢</td>\n",
       "      <td>100.0</td>\n",
       "    </tr>\n",
       "    <tr>\n",
       "      <th>12</th>\n",
       "      <td>Manca precaució efectuar marxa enrera</td>\n",
       "      <td>Manca precauci¢ efectuar marxa enrera</td>\n",
       "      <td>100.0</td>\n",
       "    </tr>\n",
       "    <tr>\n",
       "      <th>13</th>\n",
       "      <td>Avançament defectuós/improcedent</td>\n",
       "      <td>Avanament defectu¢s/improcedent</td>\n",
       "      <td>100.0</td>\n",
       "    </tr>\n",
       "    <tr>\n",
       "      <th>14</th>\n",
       "      <td>Fallada mecànica o avaria</td>\n",
       "      <td>Fallada mec",
       "nica o avaria</td>\n",
       "      <td>100.0</td>\n",
       "    </tr>\n",
       "    <tr>\n",
       "      <th>15</th>\n",
       "      <td>Envair calçada contrària</td>\n",
       "      <td>Envair calada contr",
       "ria</td>\n",
       "      <td>100.0</td>\n",
       "    </tr>\n",
       "  </tbody>\n",
       "</table>\n",
       "</div>"
      ],
      "text/plain": [
       "                                list1_value  \\\n",
       "0                          Desobeir semàfor   \n",
       "5                   No respectar distàncies   \n",
       "6             Gir indegut o sense precaució   \n",
       "7            Manca d'atenció a la conducció   \n",
       "8           Canvi de carril sense precaució   \n",
       "11  Manca precaució incorporació circulació   \n",
       "12    Manca precaució efectuar marxa enrera   \n",
       "13         Avançament defectuós/improcedent   \n",
       "14                Fallada mecànica o avaria   \n",
       "15                 Envair calçada contrària   \n",
       "\n",
       "                                list2_value  score  \n",
       "0                          Desobeir sem\n",
       "for  100.0  \n",
       "5                   No respectar dist\n",
       "ncies  100.0  \n",
       "6             Gir indegut o sense precauci¢  100.0  \n",
       "7            Manca d'atenci¢ a la conducci¢  100.0  \n",
       "8           Canvi de carril sense precauci¢  100.0  \n",
       "11  Manca precauci¢ incorporaci¢ circulaci¢  100.0  \n",
       "12    Manca precauci¢ efectuar marxa enrera  100.0  \n",
       "13         Avanament defectu¢s/improcedent  100.0  \n",
       "14                Fallada mec\n",
       "nica o avaria  100.0  \n",
       "15                 Envair calada contr\n",
       "ria  100.0  "
      ]
     },
     "execution_count": 99,
     "metadata": {},
     "output_type": "execute_result"
    }
   ],
   "source": [
    "# Dataframe with matches\n",
    "correction_dfs['Descripció causa conductor']"
   ]
  },
  {
   "cell_type": "code",
   "execution_count": 100,
   "id": "a028cb2d-f1e4-436e-9c1a-3139a1f0ea6c",
   "metadata": {
    "tags": []
   },
   "outputs": [],
   "source": [
    "# Looks fine, let's create a dictionary to translate the values\n",
    "values = correction_dfs['Descripció causa conductor'].values\n",
    "dict_value_translation = {value[1]:value[0] for value in values }"
   ]
  },
  {
   "cell_type": "code",
   "execution_count": 101,
   "id": "017d91ac-064e-451b-8ec9-34895f8f01a4",
   "metadata": {
    "tags": []
   },
   "outputs": [],
   "source": [
    "# apply changes\n",
    "fix_col_with_dict(df=df,col='Descripció causa conductor',cdict=dict_value_translation)"
   ]
  },
  {
   "cell_type": "code",
   "execution_count": 102,
   "id": "02c0831b-e534-40f1-ab61-e9b366163e22",
   "metadata": {
    "tags": []
   },
   "outputs": [
    {
     "data": {
      "text/html": [
       "<div>\n",
       "<style scoped>\n",
       "    .dataframe tbody tr th:only-of-type {\n",
       "        vertical-align: middle;\n",
       "    }\n",
       "\n",
       "    .dataframe tbody tr th {\n",
       "        vertical-align: top;\n",
       "    }\n",
       "\n",
       "    .dataframe thead th {\n",
       "        text-align: right;\n",
       "    }\n",
       "</style>\n",
       "<table border=\"1\" class=\"dataframe\">\n",
       "  <thead>\n",
       "    <tr style=\"text-align: right;\">\n",
       "      <th></th>\n",
       "      <th>list1_value</th>\n",
       "      <th>list2_value</th>\n",
       "      <th>score</th>\n",
       "    </tr>\n",
       "  </thead>\n",
       "  <tbody>\n",
       "    <tr>\n",
       "      <th>5</th>\n",
       "      <td>Camió rígid &lt;= 3,5 tones</td>\n",
       "      <td>Cami¢ r¡gid &lt;= 3,5 tones</td>\n",
       "      <td>100.0</td>\n",
       "    </tr>\n",
       "    <tr>\n",
       "      <th>7</th>\n",
       "      <td>Autobús articulat</td>\n",
       "      <td>Autob£s articulat</td>\n",
       "      <td>100.0</td>\n",
       "    </tr>\n",
       "    <tr>\n",
       "      <th>10</th>\n",
       "      <td>Autobús</td>\n",
       "      <td>Autob£s</td>\n",
       "      <td>100.0</td>\n",
       "    </tr>\n",
       "    <tr>\n",
       "      <th>11</th>\n",
       "      <td>Camió rígid &gt; 3,5 tones</td>\n",
       "      <td>Cami¢ r¡gid &gt; 3,5 tones</td>\n",
       "      <td>100.0</td>\n",
       "    </tr>\n",
       "    <tr>\n",
       "      <th>14</th>\n",
       "      <td>Tractor camió</td>\n",
       "      <td>Tractor cami¢</td>\n",
       "      <td>100.0</td>\n",
       "    </tr>\n",
       "    <tr>\n",
       "      <th>16</th>\n",
       "      <td>Maquinària d'obres i serveis</td>\n",
       "      <td>Maquin",
       "ria d'obres i serveis</td>\n",
       "      <td>100.0</td>\n",
       "    </tr>\n",
       "    <tr>\n",
       "      <th>18</th>\n",
       "      <td>Quadricicle &gt; 75 cc</td>\n",
       "      <td>Quadricicle &lt; 75 cc</td>\n",
       "      <td>100.0</td>\n",
       "    </tr>\n",
       "    <tr>\n",
       "      <th>24</th>\n",
       "      <td>NaN</td>\n",
       "      <td>Ambul",
       "ncia</td>\n",
       "      <td>NaN</td>\n",
       "    </tr>\n",
       "    <tr>\n",
       "      <th>25</th>\n",
       "      <td>NaN</td>\n",
       "      <td>Quadricicle &gt; 75 cc</td>\n",
       "      <td>NaN</td>\n",
       "    </tr>\n",
       "    <tr>\n",
       "      <th>26</th>\n",
       "      <td>NaN</td>\n",
       "      <td>Tricicle</td>\n",
       "      <td>NaN</td>\n",
       "    </tr>\n",
       "  </tbody>\n",
       "</table>\n",
       "</div>"
      ],
      "text/plain": [
       "                     list1_value                   list2_value  score\n",
       "5       Camió rígid <= 3,5 tones      Cami¢ r¡gid <= 3,5 tones  100.0\n",
       "7              Autobús articulat             Autob£s articulat  100.0\n",
       "10                       Autobús                       Autob£s  100.0\n",
       "11       Camió rígid > 3,5 tones       Cami¢ r¡gid > 3,5 tones  100.0\n",
       "14                 Tractor camió                 Tractor cami¢  100.0\n",
       "16  Maquinària d'obres i serveis  Maquin\n",
       "ria d'obres i serveis  100.0\n",
       "18           Quadricicle > 75 cc           Quadricicle < 75 cc  100.0\n",
       "24                           NaN                    Ambul\n",
       "ncia    NaN\n",
       "25                           NaN           Quadricicle > 75 cc    NaN\n",
       "26                           NaN                      Tricicle    NaN"
      ]
     },
     "execution_count": 102,
     "metadata": {},
     "output_type": "execute_result"
    }
   ],
   "source": [
    "# let's move on to the second \n",
    "correction_dfs['Desc. Tipus vehicle implicat']"
   ]
  },
  {
   "cell_type": "code",
   "execution_count": 103,
   "id": "a7eb12ae-59ea-4a81-8c67-9a444d660eb3",
   "metadata": {
    "tags": []
   },
   "outputs": [],
   "source": [
    "# Looks good, we have to add the ambulance by hand at the end\n",
    "correction_df = correction_dfs['Desc. Tipus vehicle implicat']\n",
    "values = correction_dfs['Desc. Tipus vehicle implicat'].dropna().values\n",
    "dict_value_translation = {value[1]:value[0] for value in values }"
   ]
  },
  {
   "cell_type": "code",
   "execution_count": 104,
   "id": "4a75cb7e-4f62-4d5a-84fc-1df83933c9df",
   "metadata": {
    "tags": []
   },
   "outputs": [],
   "source": [
    "dict_value_translation['Ambul\\x85ncia'] = 'Ambulància'"
   ]
  },
  {
   "cell_type": "code",
   "execution_count": 105,
   "id": "9a28cfdc-aa0d-4508-ba82-8004b680c24e",
   "metadata": {
    "tags": []
   },
   "outputs": [
    {
     "data": {
      "text/plain": [
       "{'Cami¢ r¡gid <= 3,5 tones': 'Camió rígid <= 3,5 tones',\n",
       " 'Autob£s articulat': 'Autobús articulat',\n",
       " 'Autob£s': 'Autobús',\n",
       " 'Cami¢ r¡gid > 3,5 tones': 'Camió rígid > 3,5 tones',\n",
       " 'Tractor cami¢': 'Tractor camió',\n",
       " \"Maquin\\x85ria d'obres i serveis\": \"Maquinària d'obres i serveis\",\n",
       " 'Quadricicle < 75 cc': 'Quadricicle > 75 cc',\n",
       " 'Ambul\\x85ncia': 'Ambulància'}"
      ]
     },
     "execution_count": 105,
     "metadata": {},
     "output_type": "execute_result"
    }
   ],
   "source": [
    "dict_value_translation"
   ]
  },
  {
   "cell_type": "code",
   "execution_count": 106,
   "id": "972cde40-796d-4976-8982-2f1b0f120006",
   "metadata": {
    "tags": []
   },
   "outputs": [
    {
     "data": {
      "text/plain": [
       "'Quadricicle > 75 cc'"
      ]
     },
     "execution_count": 106,
     "metadata": {},
     "output_type": "execute_result"
    }
   ],
   "source": [
    "dict_value_translation.pop('Quadricicle < 75 cc', None)"
   ]
  },
  {
   "cell_type": "code",
   "execution_count": 107,
   "id": "b9d1e639-edb4-443f-b81a-6c12045f49fa",
   "metadata": {
    "tags": []
   },
   "outputs": [
    {
     "data": {
      "text/plain": [
       "{'Cami¢ r¡gid <= 3,5 tones': 'Camió rígid <= 3,5 tones',\n",
       " 'Autob£s articulat': 'Autobús articulat',\n",
       " 'Autob£s': 'Autobús',\n",
       " 'Cami¢ r¡gid > 3,5 tones': 'Camió rígid > 3,5 tones',\n",
       " 'Tractor cami¢': 'Tractor camió',\n",
       " \"Maquin\\x85ria d'obres i serveis\": \"Maquinària d'obres i serveis\",\n",
       " 'Ambul\\x85ncia': 'Ambulància'}"
      ]
     },
     "execution_count": 107,
     "metadata": {},
     "output_type": "execute_result"
    }
   ],
   "source": [
    "dict_value_translation"
   ]
  },
  {
   "cell_type": "code",
   "execution_count": 108,
   "id": "ebb04645-b2a1-4dec-ab71-bc27b67f5a52",
   "metadata": {
    "tags": []
   },
   "outputs": [],
   "source": [
    "# apply changes\n",
    "fix_col_with_dict(df=df,col='Desc. Tipus vehicle implicat',cdict=dict_value_translation)"
   ]
  },
  {
   "cell_type": "code",
   "execution_count": 109,
   "id": "fe14cc67-3702-42bc-bc1d-d8487009fa90",
   "metadata": {
    "tags": []
   },
   "outputs": [
    {
     "data": {
      "text/html": [
       "<div>\n",
       "<style scoped>\n",
       "    .dataframe tbody tr th:only-of-type {\n",
       "        vertical-align: middle;\n",
       "    }\n",
       "\n",
       "    .dataframe tbody tr th {\n",
       "        vertical-align: top;\n",
       "    }\n",
       "\n",
       "    .dataframe thead th {\n",
       "        text-align: right;\n",
       "    }\n",
       "</style>\n",
       "<table border=\"1\" class=\"dataframe\">\n",
       "  <thead>\n",
       "    <tr style=\"text-align: right;\">\n",
       "      <th></th>\n",
       "      <th>list1_value</th>\n",
       "      <th>list2_value</th>\n",
       "      <th>score</th>\n",
       "    </tr>\n",
       "  </thead>\n",
       "  <tbody>\n",
       "    <tr>\n",
       "      <th>3</th>\n",
       "      <td>Transitar a peu per la calçada</td>\n",
       "      <td>Transitar a peu per la calada</td>\n",
       "      <td>100.0</td>\n",
       "    </tr>\n",
       "    <tr>\n",
       "      <th>4</th>\n",
       "      <td>Desobeir el senyal del semàfor</td>\n",
       "      <td>Desobeir el senyal del sem",
       "for</td>\n",
       "      <td>100.0</td>\n",
       "    </tr>\n",
       "  </tbody>\n",
       "</table>\n",
       "</div>"
      ],
      "text/plain": [
       "                      list1_value                     list2_value  score\n",
       "3  Transitar a peu per la calçada  Transitar a peu per la calada  100.0\n",
       "4  Desobeir el senyal del semàfor  Desobeir el senyal del sem\n",
       "for  100.0"
      ]
     },
     "execution_count": 109,
     "metadata": {},
     "output_type": "execute_result"
    }
   ],
   "source": [
    "# Let's look at the last one\n",
    "correction_dfs['Descripció causa vianant']"
   ]
  },
  {
   "cell_type": "code",
   "execution_count": 110,
   "id": "3973c7a9-d164-4d8b-ba45-db8e216a18a2",
   "metadata": {
    "tags": []
   },
   "outputs": [],
   "source": [
    "# Looks good, we have to add the ambulance by hand at the end\n",
    "correction_df = correction_dfs['Descripció causa vianant']\n",
    "values = correction_dfs['Descripció causa vianant'].dropna().values\n",
    "dict_value_translation = {value[1]:value[0] for value in values }"
   ]
  },
  {
   "cell_type": "code",
   "execution_count": 111,
   "id": "df2c71c4-75fc-49e1-9e37-c24039285474",
   "metadata": {
    "tags": []
   },
   "outputs": [
    {
     "data": {
      "text/plain": [
       "{'Transitar a peu per la cal\\x87ada': 'Transitar a peu per la calçada',\n",
       " 'Desobeir el senyal del sem\\x85for': 'Desobeir el senyal del semàfor'}"
      ]
     },
     "execution_count": 111,
     "metadata": {},
     "output_type": "execute_result"
    }
   ],
   "source": [
    "dict_value_translation"
   ]
  },
  {
   "cell_type": "code",
   "execution_count": 112,
   "id": "f8f325d4-97e2-44d3-95ac-94aa33ab8549",
   "metadata": {
    "tags": []
   },
   "outputs": [],
   "source": [
    "# apply changes\n",
    "fix_col_with_dict(df=df,col='Descripció causa vianant',cdict=dict_value_translation)"
   ]
  },
  {
   "cell_type": "code",
   "execution_count": 113,
   "id": "e7f2b347-83ad-471c-92f9-c74367740ece",
   "metadata": {
    "tags": []
   },
   "outputs": [],
   "source": [
    "df.to_parquet('../data/parsed/2022.parquet')"
   ]
  },
  {
   "cell_type": "code",
   "execution_count": null,
   "id": "7cbd9cc0-6e47-46cf-b023-3992e2ca161a",
   "metadata": {},
   "outputs": [],
   "source": []
  }
 ],
 "metadata": {
  "kernelspec": {
   "display_name": "Python 3 (ipykernel)",
   "language": "python",
   "name": "python3"
  },
  "language_info": {
   "codemirror_mode": {
    "name": "ipython",
    "version": 3
   },
   "file_extension": ".py",
   "mimetype": "text/x-python",
   "name": "python",
   "nbconvert_exporter": "python",
   "pygments_lexer": "ipython3",
   "version": "3.9.13"
  }
 },
 "nbformat": 4,
 "nbformat_minor": 5
}
