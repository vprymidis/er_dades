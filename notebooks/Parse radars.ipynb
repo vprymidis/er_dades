{
 "cells": [
  {
   "cell_type": "markdown",
   "id": "240e7a77-6e4d-404b-b69f-dda146259be9",
   "metadata": {},
   "source": [
    "dades de aqui: https://drive.google.com/drive/folders/14ZapH-4dG4KIRWGjUaxwC-6q2DjOsVk8"
   ]
  },
  {
   "cell_type": "code",
   "execution_count": 11,
   "id": "b74f5ceb-9d7b-4df0-8560-77c02035e917",
   "metadata": {
    "tags": []
   },
   "outputs": [],
   "source": [
    "import pandas as pd\n",
    "import numpy as np"
   ]
  },
  {
   "cell_type": "code",
   "execution_count": 12,
   "id": "a85ee6fc-02ce-46d0-b508-55cbd17efdce",
   "metadata": {
    "tags": []
   },
   "outputs": [],
   "source": [
    "path_name = 'C:/Users/Usuario/Downloads/Registres Radars 2022-2023.csv'"
   ]
  },
  {
   "cell_type": "code",
   "execution_count": 13,
   "id": "fbfeede6-f409-463e-bc9b-6f7f94fcbd74",
   "metadata": {
    "tags": []
   },
   "outputs": [],
   "source": [
    "delimiter = ','"
   ]
  },
  {
   "cell_type": "code",
   "execution_count": 16,
   "id": "7ed4c749-2285-400c-890b-0c2da8c2a6f5",
   "metadata": {
    "tags": []
   },
   "outputs": [],
   "source": [
    "df_raw = pd.read_csv(path_name, \n",
    "                     #encoding='latin-1', \n",
    "                     #keep_default_na=True,\n",
    "                     header = None,\n",
    "                     names = ['datetime','device','device_name','address','speed','plate'],\n",
    "                     skiprows = 1,\n",
    "                     delimiter=delimiter,\n",
    "                    )"
   ]
  },
  {
   "cell_type": "code",
   "execution_count": 17,
   "id": "7726c5f0-e52d-4740-b0e2-b50e9a189927",
   "metadata": {
    "tags": []
   },
   "outputs": [
    {
     "data": {
      "text/plain": [
       "214480"
      ]
     },
     "execution_count": 17,
     "metadata": {},
     "output_type": "execute_result"
    }
   ],
   "source": [
    "len(df_raw)"
   ]
  },
  {
   "cell_type": "code",
   "execution_count": 10,
   "id": "85e53e2e-bc17-42f9-9790-69c7556799fa",
   "metadata": {
    "tags": []
   },
   "outputs": [],
   "source": [
    "df_raw.to_parquet('C:/Users/Usuario/Downloads/radars.parquet')"
   ]
  },
  {
   "cell_type": "code",
   "execution_count": null,
   "id": "67956baa-baf8-4e3e-9d8e-d2ecc4d49c95",
   "metadata": {},
   "outputs": [],
   "source": []
  }
 ],
 "metadata": {
  "kernelspec": {
   "display_name": "Python 3 (ipykernel)",
   "language": "python",
   "name": "python3"
  },
  "language_info": {
   "codemirror_mode": {
    "name": "ipython",
    "version": 3
   },
   "file_extension": ".py",
   "mimetype": "text/x-python",
   "name": "python",
   "nbconvert_exporter": "python",
   "pygments_lexer": "ipython3",
   "version": "3.9.13"
  }
 },
 "nbformat": 4,
 "nbformat_minor": 5
}
