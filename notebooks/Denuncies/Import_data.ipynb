{
 "cells": [
  {
   "cell_type": "code",
   "execution_count": 1,
   "id": "c05b6bb6-1771-4e56-8459-6b3ad01712ee",
   "metadata": {
    "tags": []
   },
   "outputs": [],
   "source": [
    "import pandas as pd\n",
    "import numpy as np"
   ]
  },
  {
   "cell_type": "code",
   "execution_count": 2,
   "id": "7e62f9c9-9f73-413c-864c-e227fbc6798f",
   "metadata": {
    "tags": []
   },
   "outputs": [],
   "source": [
    "path_name = 'C:/Users/Usuario/Downloads/DenunciesGUB-2023_GD_parcial_v2.csv'"
   ]
  },
  {
   "cell_type": "code",
   "execution_count": 3,
   "id": "1322e1b6-36df-42b3-8638-04eccadd99bd",
   "metadata": {
    "tags": []
   },
   "outputs": [],
   "source": [
    "delimiter = ';'"
   ]
  },
  {
   "cell_type": "code",
   "execution_count": 4,
   "id": "72bb8a93-3c72-46d0-a0d1-cf742d61daac",
   "metadata": {
    "tags": []
   },
   "outputs": [
    {
     "name": "stderr",
     "output_type": "stream",
     "text": [
      "C:\\Users\\Usuario\\AppData\\Local\\Temp\\ipykernel_8008\\251316281.py:1: DtypeWarning: Columns (11,22) have mixed types. Specify dtype option on import or set low_memory=False.\n",
      "  df_raw = pd.read_csv(path_name,\n"
     ]
    }
   ],
   "source": [
    "df_raw = pd.read_csv(path_name, \n",
    "                     encoding='latin-1', \n",
    "                     #keep_default_na=True,\n",
    "                     #header = None,\n",
    "                     #names = list(range(0,max_columns)),\n",
    "                     #skiprows = 1,\n",
    "                     delimiter=delimiter\n",
    "                    )"
   ]
  },
  {
   "cell_type": "code",
   "execution_count": 5,
   "id": "7b7a2b41-19e6-4521-b5bf-5e5478bcd1c2",
   "metadata": {
    "tags": []
   },
   "outputs": [
    {
     "data": {
      "text/plain": [
       "485834"
      ]
     },
     "execution_count": 5,
     "metadata": {},
     "output_type": "execute_result"
    }
   ],
   "source": [
    "# How many rows?\n",
    "len(df_raw)"
   ]
  },
  {
   "cell_type": "code",
   "execution_count": 6,
   "id": "0c629daf-fa7f-40da-b48c-736ab1e2e0ce",
   "metadata": {
    "tags": []
   },
   "outputs": [
    {
     "name": "stdout",
     "output_type": "stream",
     "text": [
      "Column: Any Data Infraccio\n",
      "___\n",
      "2023    485834\n",
      "Name: Any Data Infraccio, dtype: int64\n",
      "___\n",
      "Column: Expedient\n",
      "___\n",
      "1         1\n",
      "323885    1\n",
      "323897    1\n",
      "323896    1\n",
      "323895    1\n",
      "         ..\n",
      "161942    1\n",
      "161941    1\n",
      "161940    1\n",
      "161939    1\n",
      "485834    1\n",
      "Name: Expedient, Length: 485834, dtype: int64\n",
      "___\n",
      "Column: Codi Infraccio\n",
      "___\n",
      "1211    126456\n",
      "1071     94395\n",
      "1660     43598\n",
      "1072     23156\n",
      "1210     21958\n",
      "         ...  \n",
      "1026         1\n",
      "1581         1\n",
      "1755         1\n",
      "1145         1\n",
      "3300         1\n",
      "Name: Codi Infraccio, Length: 472, dtype: int64\n",
      "___\n",
      "Column: Codi infracció\n",
      "___\n",
      "SUPERAR LIMIT VELOCITAT SENYAL ESPECIFIC                        127469\n",
      "MANCA DE COMPROVANT HORARI                                       94395\n",
      "NO RESPECTAR RESTRICCIONS ZONES BAIXES EMISSIONS                 43598\n",
      "SUPERAR LIMIT HORARI                                             23156\n",
      "CIRCULA AMB EXCES DE VELOCITAT PER RAO DE VIA                    21958\n",
      "                                                                 ...  \n",
      "MARXA ENRERA EN TUNEL O PAS INFERIOR                                 1\n",
      "Circular VMP/cicle mes 2r A/B/C2 a zones verdes de parcs pub         1\n",
      "NO REDUIR VELOCITAT EN ESTRETOR DE VIA                               1\n",
      "NO ATURAR MARXA EXIGINT-HO CIRCUMSTANCIE                             1\n",
      "NEGATIVA DETECCIO DROGUES CONDUCTOR SENSE PERMIS/LLICENCIA           1\n",
      "Name: Codi infracció, Length: 459, dtype: int64\n",
      "___\n",
      "Column: Ordenança\n",
      "___\n",
      "OCVV          229448\n",
      "RGC           208297\n",
      "LSVZBE         43598\n",
      "LSV             4491\n",
      "Name: Ordenança, dtype: int64\n",
      "___\n",
      "Column: Descripció ordenança\n",
      "___\n",
      "Circulació                      229448\n",
      "Reglament General Circulació    208297\n",
      "Llei seguretat viària- ZBE       43598\n",
      "Llei Seguretat Viària             4491\n",
      "Name: Descripció ordenança, dtype: int64\n",
      "___\n",
      "Column: Precepte/Article infringit\n",
      "___\n",
      "52. 1         115498\n",
      "70.2 I         97001\n",
      "76. Z3         36993\n",
      "70.2 O         27098\n",
      "146.A          22857\n",
      "               ...  \n",
      "114                1\n",
      "115.4              1\n",
      "104. A             1\n",
      "53.1               1\n",
      "15.3               1\n",
      "Name: Precepte/Article infringit, Length: 326, dtype: int64\n",
      "___\n",
      "Column: Carrer Infracció\n",
      "___\n",
      "Av Diagonal                                                     17745\n",
      "Av Meridiana                                                    16791\n",
      "Rda Dalt(Llobregat                                              16730\n",
      "GV Corts Catalanes                                              13870\n",
      "Balmes                                                          13230\n",
      "                                                                ...  \n",
      "Ptge Palau                                                          1\n",
      "Pl Terenci Moix                                                     1\n",
      "Ptge Ciutadans                                                      1\n",
      "Ptge Isabel                                                         1\n",
      "Pl Torre Llobeta                                                    1\n",
      "Name: Carrer Infracció, Length: 3225, dtype: int64\n",
      "___\n",
      "Column: Num carrer infracció\n",
      "___\n",
      "1             14343\n",
      "163           11673\n",
      "2             11073\n",
      "158           10960\n",
      "K143          10948\n",
      "              ...  \n",
      "0008I             1\n",
      "K014              1\n",
      "1162              1\n",
      "0009A             1\n",
      "0291X             1\n",
      "Name: Num carrer infracció, Length: 1636, dtype: int64\n",
      "___\n",
      "Column: Barri Infracció\n",
      "___\n",
      "7     33086\n",
      "26    27493\n",
      "8     23385\n",
      "19    22485\n",
      "23    19330\n",
      "      ...  \n",
      "55      270\n",
      "58      151\n",
      "54      111\n",
      "0        49\n",
      "56       22\n",
      "Name: Barri Infracció, Length: 74, dtype: int64\n",
      "___\n",
      "Column: Nom barri\n",
      "___\n",
      "la Dreta de l'Eixample                          33086\n",
      "Sant Gervasi - Galvany                          27493\n",
      "l Antiga Esquerra de l'Eixample                 23385\n",
      "les Corts                                       22485\n",
      "Sarria                                          19330\n",
      "                                                ...  \n",
      "Canyelles                                         331\n",
      "Ciutat Meridiana                                  270\n",
      "Baro de Viver                                     151\n",
      "Torre Baro                                        111\n",
      "Vallbona                                           22\n",
      "Name: Nom barri, Length: 73, dtype: int64\n",
      "___\n",
      "Column: Districte Infracció\n",
      "___\n",
      "2     73104\n",
      "5     42298\n",
      "10    36600\n",
      "2     35355\n",
      "4     32889\n",
      "8     30945\n",
      "3     27861\n",
      "1     25601\n",
      "7     22213\n",
      "5     21664\n",
      "9     18234\n",
      "8     18172\n",
      "4     17513\n",
      "10    15934\n",
      "3     14969\n",
      "6     12220\n",
      "7     12179\n",
      "1     11895\n",
      "9      9858\n",
      "6      6301\n",
      "         29\n",
      "Name: Districte Infracció, dtype: int64\n",
      "___\n",
      "Column: Tipologia radar\n",
      "___\n",
      "         334773\n",
      "Fix      148319\n",
      "Mòbil      2742\n",
      "Name: Tipologia radar, dtype: int64\n",
      "___\n",
      "Column: Data Infraccio\n",
      "___\n",
      "20230303    4386\n",
      "20230203    4264\n",
      "20230120    4186\n",
      "20230119    4099\n",
      "20230116    4035\n",
      "            ... \n",
      "20230604     680\n",
      "20230521     557\n",
      "20230702     446\n",
      "20230706     237\n",
      "20230707     173\n",
      "Name: Data Infraccio, Length: 188, dtype: int64\n",
      "___\n",
      "Column: Hora Infraccio\n",
      "___\n",
      "123900    919\n",
      "124500    900\n",
      "124100    879\n",
      "123500    876\n",
      "123100    873\n",
      "         ... \n",
      "121601      1\n",
      "120001      1\n",
      "140801      1\n",
      "104201      1\n",
      "175856      1\n",
      "Name: Hora Infraccio, Length: 1462, dtype: int64\n",
      "___\n",
      "Column: Tipus de vehícle\n",
      "___\n",
      "T     322981\n",
      "CL     41456\n",
      "M      39221\n",
      "F      28516\n",
      "C      11652\n",
      "VM      8996\n",
      "VP      8201\n",
      "BT      7656\n",
      "CM      5419\n",
      "TT      4525\n",
      "VL      2559\n",
      "TA      1658\n",
      "AB       739\n",
      "AC       695\n",
      "VV       294\n",
      "BA       191\n",
      "VI       187\n",
      "TR       178\n",
      "RI       141\n",
      "MB       106\n",
      "CP        94\n",
      "          77\n",
      "VE        66\n",
      "G         38\n",
      "QC        28\n",
      "AM        23\n",
      "CC        23\n",
      "AT        19\n",
      "TL        14\n",
      "B         14\n",
      "GI        13\n",
      "MC        13\n",
      "RT        10\n",
      "MP         8\n",
      "PC         4\n",
      "A          4\n",
      "CR         3\n",
      "AU         3\n",
      "PT         3\n",
      "BI         1\n",
      "Y          1\n",
      "MS         1\n",
      "MT         1\n",
      "0          1\n",
      "P          1\n",
      "Name: Tipus de vehícle, dtype: int64\n",
      "___\n",
      "Column: Descripció tipus vehicle\n",
      "___\n",
      "Turisme                                           322981\n",
      "Comercial                                          41456\n",
      "Moto                                               39221\n",
      "Furgoneta                                          28516\n",
      "Camió                                              11868\n",
      "Vehicle mixt                                        8996\n",
      "Vehicle mobilitat personal                          8201\n",
      "Bicicleta                                           7656\n",
      "Ciclomotor                                          5419\n",
      "Tot terreny                                         4525\n",
      "Velomotors                                          2559\n",
      "Taxi                                                1658\n",
      "Autobús                                              739\n",
      "Autocar                                              695\n",
      "Vehícle vivenda                                      294\n",
      "Bicicleta amb pedaleig assistit                      191\n",
      "Vianant                                              187\n",
      "Remolc Ind.                                          141\n",
      "Altres                                               133\n",
      "Microbús                                             106\n",
      "Cicle més de dues rodes C1 transports persones        94\n",
      "Vehicle especial                                      66\n",
      "Quadricicle                                           28\n",
      "Ambulància                                            23\n",
      "Cicle més de dues rodes per càrrega                   23\n",
      "Tricicle                                              14\n",
      "Giny mecànic                                          13\n",
      "Moto-carro                                            13\n",
      "Monopatí                                               8\n",
      "Pala Càrrega                                           4\n",
      "Patins                                                 3\n",
      "Cicle motor fins a 1000W                               3\n",
      "Name: Descripció tipus vehicle, dtype: int64\n",
      "___\n",
      "Column: Marca del vehicle\n",
      "___\n",
      "                   58531\n",
      "VOLKSWAGEN         37726\n",
      "RENAULT            30049\n",
      "CITROEN            29021\n",
      "SEAT               27844\n",
      "                   ...  \n",
      "MOVEX                  1\n",
      "G.M.E.                 1\n",
      "INDOX                  1\n",
      "RENAULT TE             1\n",
      "URAL                   1\n",
      "Name: Marca del vehicle, Length: 509, dtype: int64\n",
      "___\n",
      "Column: Model del vehícle\n",
      "___\n",
      "                                  58545\n",
      "GOLF                               7381\n",
      "IBIZA                              6364\n",
      "KANGOO                             5462\n",
      "POLO                               5249\n",
      "                                  ...  \n",
      "NISAN QASH                            1\n",
      "VY5K0N                                1\n",
      "DS5 HD160A                            1\n",
      "VIVACITY 2                            1\n",
      "308 3P SPORT HDI                      1\n",
      "Name: Model del vehícle, Length: 13247, dtype: int64\n",
      "___\n",
      "Column: Velocitat circulació\n",
      "___\n",
      "0      334775\n",
      "41      18615\n",
      "42      11932\n",
      "43       8724\n",
      "44       7073\n",
      "        ...  \n",
      "191         1\n",
      "146         1\n",
      "168         1\n",
      "164         1\n",
      "147         1\n",
      "Name: Velocitat circulació, Length: 131, dtype: int64\n",
      "___\n",
      "Column: Velocitat límit\n",
      "___\n",
      "0     334775\n",
      "30     74255\n",
      "50     26945\n",
      "60     25432\n",
      "80     24385\n",
      "70        24\n",
      "20        18\n",
      "Name: Velocitat límit, dtype: int64\n",
      "___\n",
      "Column: Total Import\n",
      "___\n",
      "100     154982\n",
      "50      100278\n",
      "200      92900\n",
      "90       57143\n",
      "60       48903\n",
      "40       23178\n",
      "1000      3131\n",
      "500       3026\n",
      "300       1721\n",
      "30         256\n",
      "400        234\n",
      "600         39\n",
      "80          21\n",
      "4002        12\n",
      "150          4\n",
      "3000         4\n",
      "72           2\n",
      "Name: Total Import, dtype: int64\n",
      "___\n",
      "Column: Imp cobrat\n",
      "___\n",
      "0         140866\n",
      "0         106193\n",
      "50         68719\n",
      "25         32938\n",
      "100        25633\n",
      "           ...  \n",
      "121,31         1\n",
      "606,23         1\n",
      "400            1\n",
      "109,14         1\n",
      "105            1\n",
      "Name: Imp cobrat, Length: 179, dtype: int64\n",
      "___\n"
     ]
    }
   ],
   "source": [
    "for col in df_raw.columns:\n",
    "    s = df_raw[col]\n",
    "    vc = s.value_counts()\n",
    "    print(f'Column: {col}')\n",
    "    print('___')\n",
    "    print(vc)\n",
    "    print('___')"
   ]
  },
  {
   "cell_type": "code",
   "execution_count": 7,
   "id": "82a84f3a-c8fa-48aa-97a2-d0516eee2b01",
   "metadata": {
    "tags": []
   },
   "outputs": [
    {
     "data": {
      "text/plain": [
       "Index(['Any Data Infraccio', 'Expedient', 'Codi Infraccio', 'Codi infracció',\n",
       "       'Ordenança', 'Descripció ordenança', 'Precepte/Article infringit',\n",
       "       'Carrer Infracció', 'Num carrer infracció', 'Barri Infracció',\n",
       "       'Nom barri', 'Districte Infracció', 'Tipologia radar', 'Data Infraccio',\n",
       "       'Hora Infraccio', 'Tipus de vehícle', 'Descripció tipus vehicle',\n",
       "       'Marca del vehicle', 'Model del vehícle', 'Velocitat circulació',\n",
       "       'Velocitat límit', 'Total Import', 'Imp cobrat'],\n",
       "      dtype='object')"
      ]
     },
     "execution_count": 7,
     "metadata": {},
     "output_type": "execute_result"
    }
   ],
   "source": [
    "df_raw.columns"
   ]
  },
  {
   "cell_type": "code",
   "execution_count": 8,
   "id": "73a3e033-f9e2-4270-9115-6aab2eea6831",
   "metadata": {
    "tags": []
   },
   "outputs": [],
   "source": [
    "correct_character_dict = {'ó':'o','ç':'c','í':'i'}\n",
    "def correct_string(string, correct_character_dict):\n",
    "    corrected_string = [correct_character_dict[c] if c in correct_character_dict.keys() else c for c in string]\n",
    "    return ''.join(corrected_string)\n",
    "df_raw.columns = [correct_string(col,correct_character_dict) for col in df_raw.columns]"
   ]
  },
  {
   "cell_type": "code",
   "execution_count": 9,
   "id": "299f8a52-b016-47ac-a605-8e845f4b952f",
   "metadata": {
    "tags": []
   },
   "outputs": [
    {
     "data": {
      "text/html": [
       "<div>\n",
       "<style scoped>\n",
       "    .dataframe tbody tr th:only-of-type {\n",
       "        vertical-align: middle;\n",
       "    }\n",
       "\n",
       "    .dataframe tbody tr th {\n",
       "        vertical-align: top;\n",
       "    }\n",
       "\n",
       "    .dataframe thead th {\n",
       "        text-align: right;\n",
       "    }\n",
       "</style>\n",
       "<table border=\"1\" class=\"dataframe\">\n",
       "  <thead>\n",
       "    <tr style=\"text-align: right;\">\n",
       "      <th></th>\n",
       "      <th>Nom barri</th>\n",
       "      <th>Districte Infraccio</th>\n",
       "      <th>Tipologia radar</th>\n",
       "    </tr>\n",
       "  </thead>\n",
       "  <tbody>\n",
       "    <tr>\n",
       "      <th>0</th>\n",
       "      <td>la Marina del Prat Vermell</td>\n",
       "      <td>3</td>\n",
       "      <td>Fix</td>\n",
       "    </tr>\n",
       "    <tr>\n",
       "      <th>1</th>\n",
       "      <td>la Marina del Prat Vermell</td>\n",
       "      <td>3</td>\n",
       "      <td>Fix</td>\n",
       "    </tr>\n",
       "  </tbody>\n",
       "</table>\n",
       "</div>"
      ],
      "text/plain": [
       "                                      Nom barri Districte Infraccio  \\\n",
       "0  la Marina del Prat Vermell                                     3   \n",
       "1  la Marina del Prat Vermell                                     3   \n",
       "\n",
       "  Tipologia radar  \n",
       "0             Fix  \n",
       "1             Fix  "
      ]
     },
     "execution_count": 9,
     "metadata": {},
     "output_type": "execute_result"
    }
   ],
   "source": [
    "df_raw.head(2)[['Nom barri', 'Districte Infraccio', 'Tipologia radar']]"
   ]
  },
  {
   "cell_type": "code",
   "execution_count": 10,
   "id": "9e428440-bc39-478d-85d9-d0a250c01242",
   "metadata": {
    "tags": []
   },
   "outputs": [
    {
     "data": {
      "text/plain": [
       "Index(['Any Data Infraccio', 'Expedient', 'Codi Infraccio', 'Codi infraccio',\n",
       "       'Ordenanca', 'Descripcio ordenanca', 'Precepte/Article infringit',\n",
       "       'Carrer Infraccio', 'Num carrer infraccio', 'Barri Infraccio',\n",
       "       'Nom barri', 'Districte Infraccio', 'Tipologia radar', 'Data Infraccio',\n",
       "       'Hora Infraccio', 'Tipus de vehicle', 'Descripcio tipus vehicle',\n",
       "       'Marca del vehicle', 'Model del vehicle', 'Velocitat circulacio',\n",
       "       'Velocitat limit', 'Total Import', 'Imp cobrat'],\n",
       "      dtype='object')"
      ]
     },
     "execution_count": 10,
     "metadata": {},
     "output_type": "execute_result"
    }
   ],
   "source": [
    "df_raw.columns"
   ]
  },
  {
   "cell_type": "code",
   "execution_count": 11,
   "id": "38036def-888c-4d6d-84cf-be97098dcb83",
   "metadata": {
    "tags": []
   },
   "outputs": [],
   "source": [
    "# cols_to_keep = ['Codi infraccio','Descripcio ordenanca','Carrer Infraccio','Nom barri','Data Infraccio',\n",
    "#                 'Hora Infraccio','Descripcio tipus vehicle','Marca del vehicle','Model del vehicle',\n",
    "#                 'Velocitat circulacio','Velocitat limit','Total Import','Imp cobrat',\n",
    "#                 'Tipologia radar','Expedient','Num carrer infraccio', 'Districte Infraccio'\n",
    "#                ]"
   ]
  },
  {
   "cell_type": "code",
   "execution_count": 12,
   "id": "b680804c-28a6-42ba-8fd1-2e053757a859",
   "metadata": {
    "tags": []
   },
   "outputs": [],
   "source": [
    "df = df_raw#[cols_to_keep].copy()"
   ]
  },
  {
   "cell_type": "code",
   "execution_count": 13,
   "id": "69a06d52-8dea-4c2d-a424-8050e149253c",
   "metadata": {
    "tags": []
   },
   "outputs": [],
   "source": [
    "df.rename(columns={'Codi infraccio':'Descripcio infraccio'}, inplace=True)"
   ]
  },
  {
   "cell_type": "code",
   "execution_count": 14,
   "id": "a7a565f2-6491-44a8-9918-7f8d9ae5b2e0",
   "metadata": {
    "tags": []
   },
   "outputs": [],
   "source": [
    "df['Data Infraccio'] = pd.to_datetime(df['Data Infraccio'], format='%Y%m%d')"
   ]
  },
  {
   "cell_type": "code",
   "execution_count": 15,
   "id": "dd114fd7-3cdf-4c98-91ec-34acde941f8c",
   "metadata": {
    "tags": []
   },
   "outputs": [],
   "source": [
    "# I don't know what this stands for\n",
    "# df['Hora Infraccio'] = df['Hora Infraccio'].apply(lambda x: x[0:2])"
   ]
  },
  {
   "cell_type": "code",
   "execution_count": 16,
   "id": "33018a4e-2df2-488c-ae6c-95a2b64610b3",
   "metadata": {
    "tags": []
   },
   "outputs": [
    {
     "data": {
      "text/plain": [
       "6    371768\n",
       "5    103737\n",
       "4      8831\n",
       "3      1498\n",
       "Name: Hora Infraccio, dtype: int64"
      ]
     },
     "execution_count": 16,
     "metadata": {},
     "output_type": "execute_result"
    }
   ],
   "source": [
    "df['Hora Infraccio'].apply(lambda x: len(x)).value_counts()"
   ]
  },
  {
   "cell_type": "code",
   "execution_count": 17,
   "id": "2bdc3cef-043f-412f-9450-09b081ee5889",
   "metadata": {
    "tags": []
   },
   "outputs": [],
   "source": [
    "def correct_time(x):\n",
    "    x =str(x).replace(' ','')\n",
    "    if x=='':\n",
    "        return np.nan\n",
    "    else:\n",
    "        return str(x).rjust(6,'0')[0:2]"
   ]
  },
  {
   "cell_type": "code",
   "execution_count": 18,
   "id": "38ee77c6-f471-4f4a-8ede-c16e211a5b4d",
   "metadata": {
    "tags": []
   },
   "outputs": [],
   "source": [
    "df['Hora Infraccio'] = df['Hora Infraccio'].apply(lambda x: correct_time(x))"
   ]
  },
  {
   "cell_type": "code",
   "execution_count": 20,
   "id": "d50bee05-8ef3-49e3-9fcd-e6a030fdaf03",
   "metadata": {
    "tags": []
   },
   "outputs": [
    {
     "data": {
      "text/plain": [
       "12    45363\n",
       "10    40785\n",
       "09    38820\n",
       "16    38637\n",
       "13    34101\n",
       "17    33566\n",
       "11    31532\n",
       "15    31308\n",
       "14    26912\n",
       "19    25018\n",
       "08    22551\n",
       "18    21878\n",
       "20    13597\n",
       "07    11856\n",
       "00    10329\n",
       "21    10064\n",
       "23     9777\n",
       "22     8931\n",
       "01     7787\n",
       "05     5217\n",
       "04     4731\n",
       "02     4515\n",
       "06     4308\n",
       "03     3952\n",
       "Name: Hora Infraccio, dtype: int64"
      ]
     },
     "execution_count": 20,
     "metadata": {},
     "output_type": "execute_result"
    }
   ],
   "source": [
    "df['Hora Infraccio'].value_counts()"
   ]
  },
  {
   "cell_type": "code",
   "execution_count": 21,
   "id": "b5bda54c-de7f-4e26-bfc8-2ac6b4f73339",
   "metadata": {
    "tags": []
   },
   "outputs": [
    {
     "data": {
      "text/plain": [
       "0         140866\n",
       "0         106193\n",
       "50         68719\n",
       "25         32938\n",
       "100        25633\n",
       "           ...  \n",
       "121,31         1\n",
       "606,23         1\n",
       "400            1\n",
       "109,14         1\n",
       "105            1\n",
       "Name: Imp cobrat, Length: 179, dtype: int64"
      ]
     },
     "execution_count": 21,
     "metadata": {},
     "output_type": "execute_result"
    }
   ],
   "source": [
    "df['Imp cobrat'].value_counts()"
   ]
  },
  {
   "cell_type": "code",
   "execution_count": 22,
   "id": "31be7545-c9b2-4492-9484-9e1ec327bfc3",
   "metadata": {
    "tags": []
   },
   "outputs": [],
   "source": [
    "df['Imp cobrat'] = df['Imp cobrat'].apply(lambda x: float(str(x).replace(',','.')))"
   ]
  },
  {
   "cell_type": "code",
   "execution_count": 23,
   "id": "e4e3c6f8-f0f5-4fcd-9c9d-7e011bfa0d06",
   "metadata": {
    "tags": []
   },
   "outputs": [],
   "source": [
    "def treat_mixed_column_type(x):\n",
    "    if isinstance(x,int):\n",
    "        return x\n",
    "    if isinstance(x,str):\n",
    "        if x.replace(' ','')=='':\n",
    "            return np.nan\n",
    "    return int(x)"
   ]
  },
  {
   "cell_type": "code",
   "execution_count": 24,
   "id": "93aea9c0-90ed-4da4-91b8-8513bb9927e2",
   "metadata": {
    "tags": []
   },
   "outputs": [],
   "source": [
    "df['Districte Infraccio'] = df['Districte Infraccio'].apply(lambda x: treat_mixed_column_type(x))"
   ]
  },
  {
   "cell_type": "code",
   "execution_count": 25,
   "id": "8e3d9cdb-fabd-44fe-96e2-e2888bb30c07",
   "metadata": {
    "tags": []
   },
   "outputs": [],
   "source": [
    "# Remove trailing whitespaces from all str column types\n",
    "def remove_whitespace(x):\n",
    "    if isinstance(x,str):\n",
    "        return x.strip()\n",
    "    return x"
   ]
  },
  {
   "cell_type": "code",
   "execution_count": 26,
   "id": "4a84e97d-e479-4611-80f0-60f727466b07",
   "metadata": {
    "tags": []
   },
   "outputs": [],
   "source": [
    "for c in df.columns:\n",
    "    if df[col].dtype!='int64':\n",
    "        df[c] = df[c].apply(lambda x: remove_whitespace(x))"
   ]
  },
  {
   "cell_type": "code",
   "execution_count": 27,
   "id": "e8ff5b66-4529-4116-ad90-e3dca40a6eda",
   "metadata": {
    "tags": []
   },
   "outputs": [],
   "source": [
    "df.to_parquet('./denuncies_partial_2023.parquet')"
   ]
  },
  {
   "cell_type": "code",
   "execution_count": null,
   "id": "03521ebe-b421-40c6-a5f6-92bf383d8774",
   "metadata": {},
   "outputs": [],
   "source": []
  }
 ],
 "metadata": {
  "kernelspec": {
   "display_name": "Python 3 (ipykernel)",
   "language": "python",
   "name": "python3"
  },
  "language_info": {
   "codemirror_mode": {
    "name": "ipython",
    "version": 3
   },
   "file_extension": ".py",
   "mimetype": "text/x-python",
   "name": "python",
   "nbconvert_exporter": "python",
   "pygments_lexer": "ipython3",
   "version": "3.9.13"
  }
 },
 "nbformat": 4,
 "nbformat_minor": 5
}
