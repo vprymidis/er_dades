{
 "cells": [
  {
   "cell_type": "code",
   "execution_count": 75,
   "id": "c05b6bb6-1771-4e56-8459-6b3ad01712ee",
   "metadata": {
    "tags": []
   },
   "outputs": [],
   "source": [
    "import pandas as pd\n",
    "import numpy as np"
   ]
  },
  {
   "cell_type": "code",
   "execution_count": 76,
   "id": "7e62f9c9-9f73-413c-864c-e227fbc6798f",
   "metadata": {
    "tags": []
   },
   "outputs": [],
   "source": [
    "path_name = 'C:/Users/Usuario/Downloads/DenunciesGUB-2023_GD_parcial.csv'"
   ]
  },
  {
   "cell_type": "code",
   "execution_count": 77,
   "id": "1322e1b6-36df-42b3-8638-04eccadd99bd",
   "metadata": {
    "tags": []
   },
   "outputs": [],
   "source": [
    "delimiter = ';'"
   ]
  },
  {
   "cell_type": "code",
   "execution_count": 52,
   "id": "630c9c85-145d-434f-943e-203995a86b42",
   "metadata": {
    "tags": []
   },
   "outputs": [
    {
     "data": {
      "text/plain": [
       "22"
      ]
     },
     "execution_count": 52,
     "metadata": {},
     "output_type": "execute_result"
    }
   ],
   "source": [
    "# How many column headers do we have?\n",
    "max_columns = max(open(path_name, 'r'), key = lambda x: x.count(delimiter)).count(delimiter)\n",
    "max_columns"
   ]
  },
  {
   "cell_type": "code",
   "execution_count": 59,
   "id": "21a7ee14-8adb-4268-b77c-fc63ba9c92fe",
   "metadata": {
    "tags": []
   },
   "outputs": [],
   "source": [
    "df_raw = pd.read_csv(path_name, \n",
    "                     encoding='latin-1', \n",
    "                     keep_default_na=True,\n",
    "                     header = None,\n",
    "                     nrows=1,\n",
    "                     delimiter=';'\n",
    "                    )\n",
    "\n",
    "columns = df_raw.values"
   ]
  },
  {
   "cell_type": "code",
   "execution_count": 60,
   "id": "ef7ccdcd-12af-46bc-912b-8ca498697cbf",
   "metadata": {
    "tags": []
   },
   "outputs": [
    {
     "data": {
      "text/plain": [
       "array([['Any Data Infraccio', 'Expedient', 'Codi Infraccio',\n",
       "        'Codi infracció', 'Ordenança', 'Descripció ordenança',\n",
       "        'Precepte/Article infringit', 'Carrer Infracció',\n",
       "        'Num carrer infracció', 'Barri Infracció', 'Nom barri',\n",
       "        'Districte Infracció', 'Tipologia radar', 'Data Infraccio',\n",
       "        'Hora Infraccio', 'Tipus de vehícle', 'Descripció tipus vehicle',\n",
       "        'Marca del vehicle', 'Model del vehícle', 'Velocitat circulació',\n",
       "        'Velocitat límit', 'Total Import', 'Imp cobrat']], dtype=object)"
      ]
     },
     "execution_count": 60,
     "metadata": {},
     "output_type": "execute_result"
    }
   ],
   "source": [
    "columns"
   ]
  },
  {
   "cell_type": "code",
   "execution_count": 69,
   "id": "9bf5a3d0-abb8-4910-9d67-93686b10b288",
   "metadata": {
    "tags": []
   },
   "outputs": [
    {
     "data": {
      "text/plain": [
       "(356659, 356659)"
      ]
     },
     "execution_count": 69,
     "metadata": {},
     "output_type": "execute_result"
    }
   ],
   "source": [
    "df_raw[23].isna().sum(),len(df_raw)"
   ]
  },
  {
   "cell_type": "markdown",
   "id": "722c24e2-1f4e-4e23-8b0f-032c886ded2a",
   "metadata": {},
   "source": [
    "The last column does not contain any values. So we can import again with less columns"
   ]
  },
  {
   "cell_type": "code",
   "execution_count": 78,
   "id": "72bb8a93-3c72-46d0-a0d1-cf742d61daac",
   "metadata": {
    "tags": []
   },
   "outputs": [
    {
     "name": "stderr",
     "output_type": "stream",
     "text": [
      "C:\\Users\\Usuario\\AppData\\Local\\Temp\\ipykernel_2712\\251316281.py:1: DtypeWarning: Columns (11,22) have mixed types. Specify dtype option on import or set low_memory=False.\n",
      "  df_raw = pd.read_csv(path_name,\n"
     ]
    }
   ],
   "source": [
    "df_raw = pd.read_csv(path_name, \n",
    "                     encoding='latin-1', \n",
    "                     #keep_default_na=True,\n",
    "                     #header = None,\n",
    "                     #names = list(range(0,max_columns)),\n",
    "                     #skiprows = 1,\n",
    "                     delimiter=delimiter\n",
    "                    )"
   ]
  },
  {
   "cell_type": "code",
   "execution_count": 81,
   "id": "7b7a2b41-19e6-4521-b5bf-5e5478bcd1c2",
   "metadata": {
    "tags": []
   },
   "outputs": [
    {
     "data": {
      "text/plain": [
       "356659"
      ]
     },
     "execution_count": 81,
     "metadata": {},
     "output_type": "execute_result"
    }
   ],
   "source": [
    "# How many rows?\n",
    "len(df_raw)"
   ]
  },
  {
   "cell_type": "code",
   "execution_count": 84,
   "id": "0c629daf-fa7f-40da-b48c-736ab1e2e0ce",
   "metadata": {
    "tags": []
   },
   "outputs": [
    {
     "name": "stdout",
     "output_type": "stream",
     "text": [
      "Column: Any Data Infraccio\n",
      "___\n",
      "2023    356659\n",
      "Name: Any Data Infraccio, dtype: int64\n",
      "___\n",
      "Column Expedient has too many unique values.\n",
      "Column: Codi Infraccio\n",
      "___\n",
      "1211    103577\n",
      "1071     65291\n",
      "1660     32892\n",
      "1210     18260\n",
      "1072     16184\n",
      "         ...  \n",
      "1089         1\n",
      "1650         1\n",
      "1536         1\n",
      "1593         1\n",
      "1408         1\n",
      "Name: Codi Infraccio, Length: 440, dtype: int64\n",
      "___\n",
      "Column: Codi infracció\n",
      "___\n",
      "SUPERAR LIMIT VELOCITAT SENYAL ESPECIFIC                        104439\n",
      "MANCA DE COMPROVANT HORARI                                       65291\n",
      "NO RESPECTAR RESTRICCIONS ZONES BAIXES EMISSIONS                 32892\n",
      "CIRCULA AMB EXCES DE VELOCITAT PER RAO DE VIA                    18260\n",
      "SUPERAR LIMIT HORARI                                             16184\n",
      "                                                                 ...  \n",
      "PORTAR MECANISME DETECCIO RADAR CINEMOMETRE                          1\n",
      "REINTEGRAR-SE AL CARRIL SENSE SENYALITZ                              1\n",
      "PARAR SOBRE CARRILS TRAMVIA/FERROCARRIL                              1\n",
      "Circular VMP/cicle mes 2r amb perill pels vianants                   1\n",
      "INSTAL SENYAL V PUB SENSE PERMIS O CAUSA                             1\n",
      "Name: Codi infracció, Length: 428, dtype: int64\n",
      "___\n",
      "Column: Ordenança\n",
      "___\n",
      "RGC           162200\n",
      "OCVV          158524\n",
      "LSVZBE         32892\n",
      "LSV             3043\n",
      "Name: Ordenança, dtype: int64\n",
      "___\n",
      "Column: Descripció ordenança\n",
      "___\n",
      "Reglament General Circulació    162200\n",
      "Circulació                      158524\n",
      "Llei seguretat viària- ZBE       32892\n",
      "Llei Seguretat Viària             3043\n",
      "Name: Descripció ordenança, dtype: int64\n",
      "___\n",
      "Column: Precepte/Article infringit\n",
      "___\n",
      "52. 1         104868\n",
      "70.2 I         81691\n",
      "76. Z3         32892\n",
      "70.2 O         21619\n",
      "50. 1          19180\n",
      "               ...  \n",
      "71. 5 c            1\n",
      "53. 1              1\n",
      "71. B4             1\n",
      "15. 3              1\n",
      "147.A              1\n",
      "Name: Precepte/Article infringit, Length: 198, dtype: int64\n",
      "___\n",
      "Column: Carrer Infracció\n",
      "___\n",
      "Av Diagonal                                                     14988\n",
      "Rda Dalt(Llobregat                                              14045\n",
      "Av Meridiana                                                    13278\n",
      "Sardenya                                                        10227\n",
      "GV Corts Catalanes                                              10041\n",
      "                                                                ...  \n",
      "Parc C Nou Barris                                                   1\n",
      "Santa Gemma                                                         1\n",
      "Mdor Poble Sec                                                      1\n",
      "Rialb                                                               1\n",
      "Berlinès                                                            1\n",
      "Name: Carrer Infracció, Length: 3044, dtype: int64\n",
      "___\n",
      "Column: Num carrer infracció\n",
      "___\n",
      "1             9652\n",
      "158           9393\n",
      "K143          9297\n",
      "251           8675\n",
      "254           8382\n",
      "              ... \n",
      "721              1\n",
      "1046             1\n",
      "0046I            1\n",
      "0143D            1\n",
      "1015             1\n",
      "Name: Num carrer infracció, Length: 1483, dtype: int64\n",
      "___\n",
      "Column: Barri Infracció\n",
      "___\n",
      "7     22571\n",
      "26    19544\n",
      "8     18377\n",
      "5     15978\n",
      "19    15479\n",
      "      ...  \n",
      "55      189\n",
      "58       99\n",
      "54       73\n",
      "0        30\n",
      "56       14\n",
      "Name: Barri Infracció, Length: 74, dtype: int64\n",
      "___\n",
      "Column: Nom barri\n",
      "___\n",
      "la Dreta de l'Eixample                          22571\n",
      "Sant Gervasi - Galvany                          19544\n",
      "l Antiga Esquerra de l'Eixample                 18377\n",
      "el Fort Pienc                                   15978\n",
      "les Corts                                       15479\n",
      "                                                ...  \n",
      "Canyelles                                         228\n",
      "Ciutat Meridiana                                  189\n",
      "Baro de Viver                                      99\n",
      "Torre Baro                                         73\n",
      "Vallbona                                           14\n",
      "Name: Nom barri, Length: 73, dtype: int64\n",
      "___\n",
      "Column: Districte Infracció\n",
      "___\n",
      "2     52563\n",
      "5     28390\n",
      "2     28315\n",
      "10    25341\n",
      "4     22949\n",
      "8     21658\n",
      "3     19296\n",
      "1     18251\n",
      "5     16965\n",
      "7     15586\n",
      "8     15321\n",
      "4     14320\n",
      "9     13269\n",
      "10    12388\n",
      "3     11860\n",
      "7      9744\n",
      "1      9699\n",
      "6      8262\n",
      "9      7689\n",
      "6      4771\n",
      "         22\n",
      "Name: Districte Infracció, dtype: int64\n",
      "___\n",
      "Column: Tipologia radar\n",
      "___\n",
      "         232611\n",
      "Fix      121660\n",
      "Mòbil      2388\n",
      "Name: Tipologia radar, dtype: int64\n",
      "___\n",
      "Column: Data Infraccio\n",
      "___\n",
      "20230303    4383\n",
      "20230203    4259\n",
      "20230120    4186\n",
      "20230119    4099\n",
      "20230116    4035\n",
      "            ... \n",
      "20230430    1550\n",
      "20230326    1498\n",
      "20230101    1389\n",
      "20230107    1343\n",
      "20230106    1217\n",
      "Name: Data Infraccio, Length: 120, dtype: int64\n",
      "___\n",
      "Column: Hora Infraccio\n",
      "___\n",
      "123900    671\n",
      "124100    656\n",
      "124500    651\n",
      "123500    648\n",
      "123700    637\n",
      "         ... \n",
      "21301       1\n",
      "155001      1\n",
      "121601      1\n",
      "120001      1\n",
      "122520      1\n",
      "Name: Hora Infraccio, Length: 1458, dtype: int64\n",
      "___\n",
      "Column: Tipus de vehícle\n",
      "___\n",
      "T     238881\n",
      "CL     29451\n",
      "M      28181\n",
      "F      21310\n",
      "C       8483\n",
      "VM      6981\n",
      "VP      5854\n",
      "BT      5407\n",
      "TT      3694\n",
      "CM      3573\n",
      "VL      1818\n",
      "TA      1018\n",
      "AB       513\n",
      "AC       453\n",
      "VV       204\n",
      "TR       143\n",
      "BA       137\n",
      "VI       109\n",
      "CP        76\n",
      "          71\n",
      "MB        63\n",
      "RI        53\n",
      "VE        45\n",
      "G         32\n",
      "QC        17\n",
      "CC        16\n",
      "AM        15\n",
      "B         11\n",
      "TL         9\n",
      "MP         8\n",
      "MC         8\n",
      "AT         6\n",
      "GI         5\n",
      "A          4\n",
      "PC         3\n",
      "MT         1\n",
      "MS         1\n",
      "PT         1\n",
      "BI         1\n",
      "AU         1\n",
      "Y          1\n",
      "CR         1\n",
      "Name: Tipus de vehícle, dtype: int64\n",
      "___\n",
      "Column: Descripció tipus vehicle\n",
      "___\n",
      "Turisme                                           238881\n",
      "Comercial                                          29451\n",
      "Moto                                               28181\n",
      "Furgoneta                                          21310\n",
      "Camió                                               8658\n",
      "Vehicle mixt                                        6981\n",
      "Vehicle mobilitat personal                          5854\n",
      "Bicicleta                                           5407\n",
      "Tot terreny                                         3694\n",
      "Ciclomotor                                          3573\n",
      "Velomotors                                          1818\n",
      "Taxi                                                1018\n",
      "Autobús                                              513\n",
      "Autocar                                              453\n",
      "Vehícle vivenda                                      204\n",
      "Bicicleta amb pedaleig assistit                      137\n",
      "Vianant                                              109\n",
      "Altres                                                97\n",
      "Cicle més de dues rodes C1 transports persones        76\n",
      "Microbús                                              63\n",
      "Remolc Ind.                                           53\n",
      "Vehicle especial                                      45\n",
      "Quadricicle                                           17\n",
      "Cicle més de dues rodes per càrrega                   16\n",
      "Ambulància                                            15\n",
      "Tricicle                                               9\n",
      "Moto-carro                                             8\n",
      "Monopatí                                               8\n",
      "Giny mecànic                                           5\n",
      "Pala Càrrega                                           3\n",
      "Patins                                                 1\n",
      "Cicle motor fins a 1000W                               1\n",
      "Name: Descripció tipus vehicle, dtype: int64\n",
      "___\n",
      "Column: Marca del vehicle\n",
      "___\n",
      "                   36473\n",
      "VOLKSWAGEN         28477\n",
      "RENAULT            22365\n",
      "CITROEN            21696\n",
      "SEAT               20975\n",
      "                   ...  \n",
      "ROYAL                  1\n",
      "LAND ROVE              1\n",
      "TROPOS MOT             1\n",
      "ROBLES                 1\n",
      "BENIMAR                1\n",
      "Name: Marca del vehicle, Length: 452, dtype: int64\n",
      "___\n",
      "Column Model del vehícle has too many unique values.\n",
      "Column: Velocitat circulació\n",
      "___\n",
      "0      232613\n",
      "41      14636\n",
      "42       9431\n",
      "43       7041\n",
      "44       5721\n",
      "        ...  \n",
      "159         1\n",
      "191         1\n",
      "136         1\n",
      "178         1\n",
      "155         1\n",
      "Name: Velocitat circulació, Length: 125, dtype: int64\n",
      "___\n",
      "Column: Velocitat límit\n",
      "___\n",
      "0     232613\n",
      "30     59605\n",
      "50     22859\n",
      "60     21966\n",
      "80     19616\n",
      "Name: Velocitat límit, dtype: int64\n",
      "___\n",
      "Column: Total Import\n",
      "___\n",
      "100     126563\n",
      "50       69561\n",
      "200      65297\n",
      "90       39454\n",
      "60       33560\n",
      "40       16201\n",
      "1000      2147\n",
      "500       2010\n",
      "300       1455\n",
      "400        185\n",
      "30         171\n",
      "600         22\n",
      "80          17\n",
      "4002         9\n",
      "3000         4\n",
      "150          2\n",
      "72           1\n",
      "Name: Total Import, dtype: int64\n",
      "___\n",
      "Column: Imp cobrat\n",
      "___\n",
      "0         107588\n",
      "0          71783\n",
      "50         44126\n",
      "25         22565\n",
      "50         19878\n",
      "           ...  \n",
      "241,11         1\n",
      "31,5           1\n",
      "108,61         1\n",
      "502            1\n",
      "75             1\n",
      "Name: Imp cobrat, Length: 94, dtype: int64\n",
      "___\n"
     ]
    }
   ],
   "source": [
    "for col in df_raw.columns:\n",
    "    s = df_raw[col]\n",
    "    vc = s.value_counts()\n",
    "    if len(vc)<len(df_raw)/100:\n",
    "        print(f'Column: {col}')\n",
    "        print('___')\n",
    "        print(vc)\n",
    "        print('___')\n",
    "    else:\n",
    "        print(f'Column {col} has too many unique values.')"
   ]
  },
  {
   "cell_type": "code",
   "execution_count": 85,
   "id": "82a84f3a-c8fa-48aa-97a2-d0516eee2b01",
   "metadata": {
    "tags": []
   },
   "outputs": [
    {
     "data": {
      "text/plain": [
       "Index(['Any Data Infraccio', 'Expedient', 'Codi Infraccio', 'Codi infracció',\n",
       "       'Ordenança', 'Descripció ordenança', 'Precepte/Article infringit',\n",
       "       'Carrer Infracció', 'Num carrer infracció', 'Barri Infracció',\n",
       "       'Nom barri', 'Districte Infracció', 'Tipologia radar', 'Data Infraccio',\n",
       "       'Hora Infraccio', 'Tipus de vehícle', 'Descripció tipus vehicle',\n",
       "       'Marca del vehicle', 'Model del vehícle', 'Velocitat circulació',\n",
       "       'Velocitat límit', 'Total Import', 'Imp cobrat'],\n",
       "      dtype='object')"
      ]
     },
     "execution_count": 85,
     "metadata": {},
     "output_type": "execute_result"
    }
   ],
   "source": [
    "df_raw.columns"
   ]
  },
  {
   "cell_type": "code",
   "execution_count": 87,
   "id": "299f8a52-b016-47ac-a605-8e845f4b952f",
   "metadata": {
    "tags": []
   },
   "outputs": [
    {
     "data": {
      "text/html": [
       "<div>\n",
       "<style scoped>\n",
       "    .dataframe tbody tr th:only-of-type {\n",
       "        vertical-align: middle;\n",
       "    }\n",
       "\n",
       "    .dataframe tbody tr th {\n",
       "        vertical-align: top;\n",
       "    }\n",
       "\n",
       "    .dataframe thead th {\n",
       "        text-align: right;\n",
       "    }\n",
       "</style>\n",
       "<table border=\"1\" class=\"dataframe\">\n",
       "  <thead>\n",
       "    <tr style=\"text-align: right;\">\n",
       "      <th></th>\n",
       "      <th>Nom barri</th>\n",
       "      <th>Districte Infracció</th>\n",
       "      <th>Tipologia radar</th>\n",
       "    </tr>\n",
       "  </thead>\n",
       "  <tbody>\n",
       "    <tr>\n",
       "      <th>0</th>\n",
       "      <td>el Poblenou</td>\n",
       "      <td>10</td>\n",
       "      <td></td>\n",
       "    </tr>\n",
       "    <tr>\n",
       "      <th>1</th>\n",
       "      <td>el Camp de l'Arpa del Clot</td>\n",
       "      <td>10</td>\n",
       "      <td></td>\n",
       "    </tr>\n",
       "  </tbody>\n",
       "</table>\n",
       "</div>"
      ],
      "text/plain": [
       "                                      Nom barri Districte Infracció  \\\n",
       "0  el Poblenou                                                   10   \n",
       "1  el Camp de l'Arpa del Clot                                    10   \n",
       "\n",
       "  Tipologia radar  \n",
       "0                  \n",
       "1                  "
      ]
     },
     "execution_count": 87,
     "metadata": {},
     "output_type": "execute_result"
    }
   ],
   "source": [
    "df_raw.head(2)[['Nom barri', 'Districte Infracció', 'Tipologia radar']]"
   ]
  },
  {
   "cell_type": "code",
   "execution_count": 88,
   "id": "38036def-888c-4d6d-84cf-be97098dcb83",
   "metadata": {
    "tags": []
   },
   "outputs": [],
   "source": [
    "cols_to_keep = ['Codi infracció','Descripció ordenança','Carrer Infracció','Nom barri','Data Infraccio',\n",
    "                'Hora Infraccio','Descripció tipus vehicle','Marca del vehicle','Model del vehícle',\n",
    "                'Velocitat circulació','Velocitat límit','Total Import','Imp cobrat'\n",
    "               ]"
   ]
  },
  {
   "cell_type": "code",
   "execution_count": 94,
   "id": "b680804c-28a6-42ba-8fd1-2e053757a859",
   "metadata": {
    "tags": []
   },
   "outputs": [],
   "source": [
    "df = df_raw[cols_to_keep].copy()"
   ]
  },
  {
   "cell_type": "code",
   "execution_count": 95,
   "id": "a7a565f2-6491-44a8-9918-7f8d9ae5b2e0",
   "metadata": {
    "tags": []
   },
   "outputs": [],
   "source": [
    "df['Data Infraccio'] = pd.to_datetime(df['Data Infraccio'], format='%Y%m%d')"
   ]
  },
  {
   "cell_type": "code",
   "execution_count": 98,
   "id": "dd114fd7-3cdf-4c98-91ec-34acde941f8c",
   "metadata": {
    "tags": []
   },
   "outputs": [],
   "source": [
    "df['Hora Infraccio'] = df['Hora Infraccio'].apply(lambda x: x[0:2])"
   ]
  },
  {
   "cell_type": "code",
   "execution_count": 102,
   "id": "b5bda54c-de7f-4e26-bfc8-2ac6b4f73339",
   "metadata": {
    "tags": []
   },
   "outputs": [
    {
     "data": {
      "text/plain": [
       "0         107588\n",
       "0          71783\n",
       "50         44126\n",
       "25         22565\n",
       "50         19878\n",
       "           ...  \n",
       "241,11         1\n",
       "31,5           1\n",
       "108,61         1\n",
       "502            1\n",
       "75             1\n",
       "Name: Imp cobrat, Length: 94, dtype: int64"
      ]
     },
     "execution_count": 102,
     "metadata": {},
     "output_type": "execute_result"
    }
   ],
   "source": [
    "df['Imp cobrat'].value_counts()"
   ]
  },
  {
   "cell_type": "code",
   "execution_count": 107,
   "id": "31be7545-c9b2-4492-9484-9e1ec327bfc3",
   "metadata": {
    "tags": []
   },
   "outputs": [],
   "source": [
    "df['Imp cobrat'] = df['Imp cobrat'].apply(lambda x: float(str(x).replace(',','.')))"
   ]
  },
  {
   "cell_type": "code",
   "execution_count": 108,
   "id": "e8ff5b66-4529-4116-ad90-e3dca40a6eda",
   "metadata": {
    "tags": []
   },
   "outputs": [],
   "source": [
    "df.to_parquet('./denuncies_partial_2023.parquet')"
   ]
  },
  {
   "cell_type": "code",
   "execution_count": null,
   "id": "85a33cf7-47c8-4e1b-808e-d6a6675e2aae",
   "metadata": {},
   "outputs": [],
   "source": []
  }
 ],
 "metadata": {
  "kernelspec": {
   "display_name": "Python 3 (ipykernel)",
   "language": "python",
   "name": "python3"
  },
  "language_info": {
   "codemirror_mode": {
    "name": "ipython",
    "version": 3
   },
   "file_extension": ".py",
   "mimetype": "text/x-python",
   "name": "python",
   "nbconvert_exporter": "python",
   "pygments_lexer": "ipython3",
   "version": "3.9.13"
  }
 },
 "nbformat": 4,
 "nbformat_minor": 5
}
